{
  "cells": [
    {
      "metadata": {},
      "cell_type": "markdown",
      "source": "# Python Basics for Data Science\n## Your First Program"
    },
    {
      "metadata": {
        "trusted": true
      },
      "cell_type": "code",
      "source": "# Print \"Hello Python 101\"\nprint(\"Hello Python 101\")",
      "execution_count": 2,
      "outputs": [
        {
          "output_type": "stream",
          "text": "Hello Python 101\n",
          "name": "stdout"
        }
      ]
    },
    {
      "metadata": {
        "trusted": true
      },
      "cell_type": "code",
      "source": "# 3 types int - float - str\nprint(type(11))\nprint(type(8.7))\nprint(type(\"Hello World\"))",
      "execution_count": 5,
      "outputs": [
        {
          "output_type": "stream",
          "text": "<class 'int'>\n<class 'float'>\n<class 'str'>\n",
          "name": "stdout"
        }
      ]
    },
    {
      "metadata": {
        "trusted": true
      },
      "cell_type": "code",
      "source": "# Boolean: A binary variable, having 2 possible values \"True\" or \"False\"\nprint(type(True))\nprint(type(False))",
      "execution_count": 7,
      "outputs": [
        {
          "output_type": "stream",
          "text": "<class 'bool'>\n<class 'bool'>\n",
          "name": "stdout"
        }
      ]
    },
    {
      "metadata": {
        "trusted": true
      },
      "cell_type": "code",
      "source": "bool(1)",
      "execution_count": 13,
      "outputs": [
        {
          "output_type": "execute_result",
          "execution_count": 13,
          "data": {
            "text/plain": "True"
          },
          "metadata": {}
        }
      ]
    },
    {
      "metadata": {
        "trusted": true
      },
      "cell_type": "code",
      "source": "# Check the python version\nimport sys\nprint(sys.version)\n\n# System setting about float type\nsys.float_info",
      "execution_count": 15,
      "outputs": [
        {
          "output_type": "stream",
          "text": "3.6.6 |Anaconda, Inc.| (default, Jun 28 2018, 17:14:51) \n[GCC 7.2.0]\n",
          "name": "stdout"
        },
        {
          "output_type": "execute_result",
          "execution_count": 15,
          "data": {
            "text/plain": "sys.float_info(max=1.7976931348623157e+308, max_exp=1024, max_10_exp=308, min=2.2250738585072014e-308, min_exp=-1021, min_10_exp=-307, dig=15, mant_dig=53, epsilon=2.220446049250313e-16, radix=2, rounds=1)"
          },
          "metadata": {}
        }
      ]
    },
    {
      "metadata": {
        "trusted": true
      },
      "cell_type": "code",
      "source": "# Convert True to int\nint(True)",
      "execution_count": 16,
      "outputs": [
        {
          "output_type": "execute_result",
          "execution_count": 16,
          "data": {
            "text/plain": "1"
          },
          "metadata": {}
        }
      ]
    },
    {
      "metadata": {
        "trusted": true
      },
      "cell_type": "code",
      "source": "# Convert False to int\nint(False)",
      "execution_count": 17,
      "outputs": [
        {
          "output_type": "execute_result",
          "execution_count": 17,
          "data": {
            "text/plain": "0"
          },
          "metadata": {}
        }
      ]
    },
    {
      "metadata": {
        "trusted": true
      },
      "cell_type": "code",
      "source": "# Convert 1 to Boolean\nbool(1)",
      "execution_count": 18,
      "outputs": [
        {
          "output_type": "execute_result",
          "execution_count": 18,
          "data": {
            "text/plain": "True"
          },
          "metadata": {}
        }
      ]
    },
    {
      "metadata": {
        "trusted": true
      },
      "cell_type": "code",
      "source": "# Convert 0 to Boolean\nbool(0)",
      "execution_count": 19,
      "outputs": [
        {
          "output_type": "execute_result",
          "execution_count": 19,
          "data": {
            "text/plain": "False"
          },
          "metadata": {}
        }
      ]
    },
    {
      "metadata": {},
      "cell_type": "markdown",
      "source": "## Strings"
    },
    {
      "metadata": {
        "trusted": true
      },
      "cell_type": "code",
      "source": "name = \"Daniel Ruiz Garcia\"",
      "execution_count": 20,
      "outputs": []
    },
    {
      "metadata": {
        "trusted": true
      },
      "cell_type": "code",
      "source": "name[0]",
      "execution_count": 21,
      "outputs": [
        {
          "output_type": "execute_result",
          "execution_count": 21,
          "data": {
            "text/plain": "'D'"
          },
          "metadata": {}
        }
      ]
    },
    {
      "metadata": {
        "trusted": true
      },
      "cell_type": "code",
      "source": "name[8]",
      "execution_count": 22,
      "outputs": [
        {
          "output_type": "execute_result",
          "execution_count": 22,
          "data": {
            "text/plain": "'u'"
          },
          "metadata": {}
        }
      ]
    },
    {
      "metadata": {
        "trusted": true
      },
      "cell_type": "code",
      "source": "name[0:6]",
      "execution_count": 23,
      "outputs": [
        {
          "output_type": "execute_result",
          "execution_count": 23,
          "data": {
            "text/plain": "'Daniel'"
          },
          "metadata": {}
        }
      ]
    },
    {
      "metadata": {
        "trusted": true
      },
      "cell_type": "code",
      "source": "name[7:16]",
      "execution_count": 27,
      "outputs": [
        {
          "output_type": "execute_result",
          "execution_count": 27,
          "data": {
            "text/plain": "'Ruiz Garc'"
          },
          "metadata": {}
        }
      ]
    },
    {
      "metadata": {
        "trusted": true
      },
      "cell_type": "code",
      "source": "name[0:15:3]",
      "execution_count": 28,
      "outputs": [
        {
          "output_type": "execute_result",
          "execution_count": 28,
          "data": {
            "text/plain": "'Di iG'"
          },
          "metadata": {}
        }
      ]
    },
    {
      "metadata": {
        "trusted": true
      },
      "cell_type": "markdown",
      "source": "## Loop Review"
    },
    {
      "metadata": {
        "trusted": true
      },
      "cell_type": "code",
      "source": "# The code in the index is executed N times, each time the value of i is increased by 1 for every execution. The statement executed is to print out the value in the list at index i\n# For Loop Example\ndates = [1982,1980,1973]\nN = len(dates)\n\nfor i in range(N):\n    print(dates[i])",
      "execution_count": 2,
      "outputs": [
        {
          "output_type": "stream",
          "text": "1982\n1980\n1973\n",
          "name": "stdout"
        }
      ]
    },
    {
      "metadata": {
        "trusted": true
      },
      "cell_type": "code",
      "source": "# Repeat \nmonths = [\"January\",\"February\",\"March\",\"April\",\"May\",\"June\"]\nN = 5\n\nfor i in range(N):\n    print(months[i])",
      "execution_count": 5,
      "outputs": [
        {
          "output_type": "stream",
          "text": "January\nFebruary\nMarch\nApril\nMay\n",
          "name": "stdout"
        }
      ]
    },
    {
      "metadata": {
        "trusted": true
      },
      "cell_type": "code",
      "source": "# Again\ndays = [\"Monday\",\"Tuesday\",\"Wednesday\",\"Thursday\",\"Friday\",\"Saturday\",\"Sunday\"]\nN = 1\n\nfor i in range(N):\n    print(days[0:7:2])",
      "execution_count": 16,
      "outputs": [
        {
          "output_type": "stream",
          "text": "['Monday', 'Wednesday', 'Friday', 'Sunday']\n",
          "name": "stdout"
        }
      ]
    },
    {
      "metadata": {
        "trusted": true
      },
      "cell_type": "code",
      "source": "# Last one xD\nanimals = [\"Rat\",\"Ox\",\"Tiger\",\"Rabbit\",\"Dragon\",\"Snake\",\"Horse\"]\nN = 1\n\nfor i in range(N):\n    print(animals[0:7])",
      "execution_count": 18,
      "outputs": [
        {
          "output_type": "stream",
          "text": "['Rat', 'Ox', 'Tiger', 'Rabbit', 'Dragon', 'Snake', 'Horse']\n",
          "name": "stdout"
        }
      ]
    },
    {
      "metadata": {
        "trusted": true
      },
      "cell_type": "code",
      "source": "# Last one xD\nanimals = [\"Rat\",\"Ox\",\"Tiger\",\"Rabbit\",\"Dragon\",\"Snake\",\"Horse\"]\nN = len(animals)\n\nfor i in range(N):\n    print(animals[i])",
      "execution_count": 19,
      "outputs": [
        {
          "output_type": "stream",
          "text": "Rat\nOx\nTiger\nRabbit\nDragon\nSnake\nHorse\n",
          "name": "stdout"
        }
      ]
    },
    {
      "metadata": {},
      "cell_type": "markdown",
      "source": "### Print out a sequence"
    },
    {
      "metadata": {
        "trusted": true
      },
      "cell_type": "code",
      "source": "# Example of for Loop\nfor i in range(4, 10):\n    print(i)",
      "execution_count": 20,
      "outputs": [
        {
          "output_type": "stream",
          "text": "4\n5\n6\n7\n8\n9\n",
          "name": "stdout"
        }
      ]
    },
    {
      "metadata": {
        "trusted": true
      },
      "cell_type": "code",
      "source": "for i in range(3,6):\n    print(i)",
      "execution_count": 21,
      "outputs": [
        {
          "output_type": "stream",
          "text": "3\n4\n5\n",
          "name": "stdout"
        }
      ]
    },
    {
      "metadata": {},
      "cell_type": "markdown",
      "source": "### Access elements in the list "
    },
    {
      "metadata": {
        "trusted": true
      },
      "cell_type": "code",
      "source": "# For each iteration, the value of the variable years behaves like the value of dates[i] in the first example\n# Example of for Loop, Loop though list\ndates = [1982, 1980, 1973]\nfor year in dates:\n    print(year)",
      "execution_count": 22,
      "outputs": [
        {
          "output_type": "stream",
          "text": "1982\n1980\n1973\n",
          "name": "stdout"
        }
      ]
    },
    {
      "metadata": {
        "trusted": true
      },
      "cell_type": "code",
      "source": "chocolates = [\"M&M's\",\"Sneakers\",\"Milkyway\",\"Reeses\",\"Hersey's\"]\nfor favorite in chocolates:\n    print(favorite)",
      "execution_count": 23,
      "outputs": [
        {
          "output_type": "stream",
          "text": "M&M's\nSneakers\nMilkyway\nReeses\nHersey's\n",
          "name": "stdout"
        }
      ]
    },
    {
      "metadata": {
        "trusted": true
      },
      "cell_type": "code",
      "source": "for i in range(0,11):\n    print(i)",
      "execution_count": 25,
      "outputs": [
        {
          "output_type": "stream",
          "text": "0\n1\n2\n3\n4\n5\n6\n7\n8\n9\n10\n",
          "name": "stdout"
        }
      ]
    },
    {
      "metadata": {},
      "cell_type": "markdown",
      "source": "### Change the elements in a list"
    },
    {
      "metadata": {
        "trusted": true
      },
      "cell_type": "code",
      "source": "# Use the for loop to change the elements on a list\nsquares = [\"Red\",\"Yellow\",\"Green\",\"Purple\",\"Blue\"]\nN = len(squares)\n\nfor i in range(N):\n    print(\"Before square\",i,'is',squares[i])\n    squares[i] = \"Black\"\n    print(\"After square\",i,\"is\",squares[i])",
      "execution_count": 28,
      "outputs": [
        {
          "output_type": "stream",
          "text": "Before square 0 is Red\nAfter square 0 is Black\nBefore square 1 is Yellow\nAfter square 1 is Black\nBefore square 2 is Green\nAfter square 2 is Black\nBefore square 3 is Purple\nAfter square 3 is Black\nBefore square 4 is Blue\nAfter square 4 is Black\n",
          "name": "stdout"
        }
      ]
    },
    {
      "metadata": {
        "trusted": true
      },
      "cell_type": "code",
      "source": "for i in range(0,11):\n    print(i)",
      "execution_count": 3,
      "outputs": [
        {
          "output_type": "stream",
          "text": "0\n1\n2\n3\n4\n5\n6\n7\n8\n9\n10\n",
          "name": "stdout"
        }
      ]
    },
    {
      "metadata": {
        "trusted": true
      },
      "cell_type": "code",
      "source": "# Again \ncircles = [\"Purple\",\"Blue\",\"Yellow\",\"Red\",\"Orange\",\"Green\"]\nN = len(circles)\n\nfor i in range(N):\n    print(\"Before circle\",i,'is',circles[i])\n    circles[i] = \"White\"\n    print(\"Now circle\",i,'is',circles[i])",
      "execution_count": 6,
      "outputs": [
        {
          "output_type": "stream",
          "text": "Before circle 0 is Purple\nNow circle 0 is White\nBefore circle 1 is Blue\nNow circle 1 is White\nBefore circle 2 is Yellow\nNow circle 2 is White\nBefore circle 3 is Red\nNow circle 3 is White\nBefore circle 4 is Orange\nNow circle 4 is White\nBefore circle 5 is Green\nNow circle 5 is White\n",
          "name": "stdout"
        }
      ]
    },
    {
      "metadata": {},
      "cell_type": "markdown",
      "source": "## While Loop\n### For loop is used for controlled flow of repetition. While loop - Tool for repeated execution based on a condition"
    },
    {
      "metadata": {
        "trusted": true
      },
      "cell_type": "code",
      "source": "# While Loop Example\n\ndates = [1982, 1980, 1973, 2000]\n\ni = 0\nyear = 0\n\nwhile(year != 1973):\n    year = dates[i]\n    i = i + 1\n    print(year)\n\nprint(\"It took \", i ,\"repetitions to get out of loop.\")",
      "execution_count": 7,
      "outputs": [
        {
          "output_type": "stream",
          "text": "1982\n1980\n1973\nIt took  3 repetitions to get out of loop.\n",
          "name": "stdout"
        }
      ]
    },
    {
      "metadata": {
        "trusted": true
      },
      "cell_type": "code",
      "source": "# Again\nnumbers = [1,2,3,4,5,6,7,8]\n\ni = 0\nguess = 0\n\nwhile(guess != 5):\n    guess = numbers[i]\n    i = i + 1\n    print(guess)\n    \nprint(\"It took\",i,\"repetitions to get out of loop.\")\n    ",
      "execution_count": 9,
      "outputs": [
        {
          "output_type": "stream",
          "text": "1\n2\n3\n4\n5\nIt took 5 repetitions to get out of loop.\n",
          "name": "stdout"
        }
      ]
    },
    {
      "metadata": {
        "trusted": true
      },
      "cell_type": "code",
      "source": "# Again\nletters = [\"A\",\"B\",\"C\",\"D\",\"E\",\"F\",\"G\"]\n\ni = 0\nalpha = 0\n\nwhile(alpha != \"D\"):\n    alpha = letters[i]\n    i = i + 1\n    print(alpha)\n    \nprint(\"It took\",i,\"repetitions to get out of loop\")",
      "execution_count": 11,
      "outputs": [
        {
          "output_type": "stream",
          "text": "A\nB\nC\nD\nIt took 4 repetitions to get out of loop\n",
          "name": "stdout"
        }
      ]
    },
    {
      "metadata": {
        "trusted": true
      },
      "cell_type": "code",
      "source": "# Write your code below and press Shift+Enter to execute\n\nsquares = ['orange', 'orange', 'purple', 'blue ', 'orange']\nnew_squares = []\ni = 0\nnew_squares = 0\n\nwhile(new_squares != 'orange'):\n    new_squares = squares[i]\n    i = i +1\n    print(new_squares)\nprint(\"how many times\",i,\"took to end\")",
      "execution_count": 17,
      "outputs": [
        {
          "output_type": "stream",
          "text": "orange\nhow many times 1 took to end\n",
          "name": "stdout"
        }
      ]
    },
    {
      "metadata": {
        "trusted": true
      },
      "cell_type": "code",
      "source": "squares = ['orange', 'orange', 'purple', 'blue ', 'orange']\nnew_squares = []\ni = 0\nwhile(squares[i] == 'orange'):\n    new_squares.append(squares[i])\n    i = i + 1\nprint (new_squares)",
      "execution_count": 13,
      "outputs": [
        {
          "output_type": "stream",
          "text": "['orange', 'orange']\n",
          "name": "stdout"
        }
      ]
    },
    {
      "metadata": {
        "trusted": true
      },
      "cell_type": "code",
      "source": "def add1(a):\n    b = a + 1\n    return b",
      "execution_count": 7,
      "outputs": []
    },
    {
      "metadata": {
        "trusted": true
      },
      "cell_type": "code",
      "source": "c = add1(5)\nc",
      "execution_count": 4,
      "outputs": [
        {
          "output_type": "execute_result",
          "execution_count": 4,
          "data": {
            "text/plain": "6"
          },
          "metadata": {}
        }
      ]
    },
    {
      "metadata": {
        "trusted": true
      },
      "cell_type": "code",
      "source": "d = add1(8)\nd",
      "execution_count": 5,
      "outputs": [
        {
          "output_type": "execute_result",
          "execution_count": 5,
          "data": {
            "text/plain": "9"
          },
          "metadata": {}
        }
      ]
    },
    {
      "metadata": {
        "trusted": true
      },
      "cell_type": "code",
      "source": "# Documentation String use triple quotes \"\"\"\ndef add1(a):\n    \"\"\"\n    add 1 to a\n    \"\"\"\n    b = a + 1;\n    return b\n# help with function add 1 in module __main__: add1(a) add 1 to a",
      "execution_count": 9,
      "outputs": []
    },
    {
      "metadata": {
        "trusted": true
      },
      "cell_type": "code",
      "source": "def MJ():\n    print(\"Michael Jordan\")",
      "execution_count": 10,
      "outputs": []
    },
    {
      "metadata": {
        "trusted": true
      },
      "cell_type": "code",
      "source": "MJ()",
      "execution_count": 12,
      "outputs": [
        {
          "output_type": "stream",
          "text": "Michael Jordan\n",
          "name": "stdout"
        }
      ]
    },
    {
      "metadata": {
        "trusted": true
      },
      "cell_type": "code",
      "source": "def add1(a):\n    b = a + 1;\n    print(a,'plus one equals:',b)\n    return b",
      "execution_count": 13,
      "outputs": []
    },
    {
      "metadata": {
        "trusted": true
      },
      "cell_type": "code",
      "source": "add1(4)",
      "execution_count": 14,
      "outputs": [
        {
          "output_type": "stream",
          "text": "4 plus one equals: 5\n",
          "name": "stdout"
        },
        {
          "output_type": "execute_result",
          "execution_count": 14,
          "data": {
            "text/plain": "5"
          },
          "metadata": {}
        }
      ]
    },
    {
      "metadata": {
        "trusted": true
      },
      "cell_type": "code",
      "source": "def printStuff(Stuff):\n    for i,s in enumerate(Stuff):\n        print(\"Album\",i,\"Rating is\",s)\nalbum_ratings = [10,8.5,9.5]\nprintStuff(album_ratings)",
      "execution_count": 15,
      "outputs": [
        {
          "output_type": "stream",
          "text": "Album 0 Rating is 10\nAlbum 1 Rating is 8.5\nAlbum 2 Rating is 9.5\n",
          "name": "stdout"
        }
      ]
    },
    {
      "metadata": {
        "trusted": true
      },
      "cell_type": "code",
      "source": "def mult(a,b,c,d):\n    for \n\n        ",
      "execution_count": 1,
      "outputs": [
        {
          "output_type": "error",
          "ename": "SyntaxError",
          "evalue": "invalid syntax (<ipython-input-1-ae1797ec6cfe>, line 5)",
          "traceback": [
            "\u001b[0;36m  File \u001b[0;32m\"<ipython-input-1-ae1797ec6cfe>\"\u001b[0;36m, line \u001b[0;32m5\u001b[0m\n\u001b[0;31m    for (a + a = c):\u001b[0m\n\u001b[0m               ^\u001b[0m\n\u001b[0;31mSyntaxError\u001b[0m\u001b[0;31m:\u001b[0m invalid syntax\n"
          ]
        }
      ]
    },
    {
      "metadata": {
        "trusted": true
      },
      "cell_type": "code",
      "source": "x=1\n\ndef add(y):\n\n    return x+y\n\nz=add(10)\nz",
      "execution_count": 10,
      "outputs": [
        {
          "output_type": "execute_result",
          "execution_count": 10,
          "data": {
            "text/plain": "11"
          },
          "metadata": {}
        }
      ]
    },
    {
      "metadata": {
        "trusted": true
      },
      "cell_type": "code",
      "source": "def f(z):\n\n    return sum(z)\nf(z)",
      "execution_count": 11,
      "outputs": [
        {
          "output_type": "error",
          "ename": "TypeError",
          "evalue": "'int' object is not iterable",
          "traceback": [
            "\u001b[0;31m---------------------------------------------------------------------------\u001b[0m",
            "\u001b[0;31mTypeError\u001b[0m                                 Traceback (most recent call last)",
            "\u001b[0;32m<ipython-input-11-2fa795d27cb2>\u001b[0m in \u001b[0;36m<module>\u001b[0;34m\u001b[0m\n\u001b[1;32m      2\u001b[0m \u001b[0;34m\u001b[0m\u001b[0m\n\u001b[1;32m      3\u001b[0m     \u001b[0;32mreturn\u001b[0m \u001b[0msum\u001b[0m\u001b[0;34m(\u001b[0m\u001b[0mz\u001b[0m\u001b[0;34m)\u001b[0m\u001b[0;34m\u001b[0m\u001b[0m\n\u001b[0;32m----> 4\u001b[0;31m \u001b[0mf\u001b[0m\u001b[0;34m(\u001b[0m\u001b[0mz\u001b[0m\u001b[0;34m)\u001b[0m\u001b[0;34m\u001b[0m\u001b[0m\n\u001b[0m",
            "\u001b[0;32m<ipython-input-11-2fa795d27cb2>\u001b[0m in \u001b[0;36mf\u001b[0;34m(z)\u001b[0m\n\u001b[1;32m      1\u001b[0m \u001b[0;32mdef\u001b[0m \u001b[0mf\u001b[0m\u001b[0;34m(\u001b[0m\u001b[0mz\u001b[0m\u001b[0;34m)\u001b[0m\u001b[0;34m:\u001b[0m\u001b[0;34m\u001b[0m\u001b[0m\n\u001b[1;32m      2\u001b[0m \u001b[0;34m\u001b[0m\u001b[0m\n\u001b[0;32m----> 3\u001b[0;31m     \u001b[0;32mreturn\u001b[0m \u001b[0msum\u001b[0m\u001b[0;34m(\u001b[0m\u001b[0mz\u001b[0m\u001b[0;34m)\u001b[0m\u001b[0;34m\u001b[0m\u001b[0m\n\u001b[0m\u001b[1;32m      4\u001b[0m \u001b[0mf\u001b[0m\u001b[0;34m(\u001b[0m\u001b[0mz\u001b[0m\u001b[0;34m)\u001b[0m\u001b[0;34m\u001b[0m\u001b[0m\n",
            "\u001b[0;31mTypeError\u001b[0m: 'int' object is not iterable"
          ]
        }
      ]
    },
    {
      "metadata": {
        "trusted": true
      },
      "cell_type": "code",
      "source": "a = 4\nb = 8\nd = 0\nc = 0\n\nwhile c < b:\n    d = d + a\n    ",
      "execution_count": null,
      "outputs": []
    }
  ],
  "metadata": {
    "kernelspec": {
      "name": "python36",
      "display_name": "Python 3.6",
      "language": "python"
    },
    "language_info": {
      "mimetype": "text/x-python",
      "nbconvert_exporter": "python",
      "name": "python",
      "pygments_lexer": "ipython3",
      "version": "3.6.6",
      "file_extension": ".py",
      "codemirror_mode": {
        "version": 3,
        "name": "ipython"
      }
    }
  },
  "nbformat": 4,
  "nbformat_minor": 1
}