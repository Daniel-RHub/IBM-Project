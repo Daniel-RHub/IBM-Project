{
  "cells": [
    {
      "metadata": {
        "collapsed": true
      },
      "cell_type": "markdown",
      "source": "# Python Basics for Data Science \n### Your first program"
    },
    {
      "metadata": {
        "trusted": true
      },
      "cell_type": "code",
      "source": "# Reference\n# Lutz, Mark. Learning Python: Powerful Object-Oriented Programming. \" O'Reilly Media, Inc.\", 2013.\n# Ana Bell, Eric Grimson and John Guttag.  Introduction to Computer Science and Programming in Python, MIT Open Course Ware, MIT 2017",
      "execution_count": null,
      "outputs": []
    },
    {
      "metadata": {
        "trusted": true
      },
      "cell_type": "code",
      "source": "#Print \"Hello Python 101\"\nprint(\"Hello Python 101\")",
      "execution_count": 1,
      "outputs": [
        {
          "output_type": "stream",
          "text": "Hello Python 101\n",
          "name": "stdout"
        }
      ]
    },
    {
      "metadata": {
        "trusted": true
      },
      "cell_type": "code",
      "source": "print(type(11))\nprint(type(8.6))\nprint(type(\"Hello World!\"))",
      "execution_count": 2,
      "outputs": [
        {
          "output_type": "stream",
          "text": "<class 'int'>\n<class 'float'>\n<class 'str'>\n",
          "name": "stdout"
        }
      ]
    },
    {
      "metadata": {
        "trusted": true
      },
      "cell_type": "code",
      "source": "type(True)",
      "execution_count": 3,
      "outputs": [
        {
          "output_type": "execute_result",
          "execution_count": 3,
          "data": {
            "text/plain": "bool"
          },
          "metadata": {}
        }
      ]
    },
    {
      "metadata": {
        "trusted": true
      },
      "cell_type": "code",
      "source": "int(True)",
      "execution_count": 4,
      "outputs": [
        {
          "output_type": "execute_result",
          "execution_count": 4,
          "data": {
            "text/plain": "1"
          },
          "metadata": {}
        }
      ]
    },
    {
      "metadata": {
        "trusted": true
      },
      "cell_type": "code",
      "source": "bool(1)",
      "execution_count": 5,
      "outputs": [
        {
          "output_type": "execute_result",
          "execution_count": 5,
          "data": {
            "text/plain": "True"
          },
          "metadata": {}
        }
      ]
    },
    {
      "metadata": {
        "trusted": true
      },
      "cell_type": "code",
      "source": "#Check the Python Version\nimport sys\nprint(sys.version)",
      "execution_count": 6,
      "outputs": [
        {
          "output_type": "stream",
          "text": "3.6.6 |Anaconda, Inc.| (default, Jun 28 2018, 17:14:51) \n[GCC 7.2.0]\n",
          "name": "stdout"
        }
      ]
    },
    {
      "metadata": {
        "trusted": true
      },
      "cell_type": "code",
      "source": "# System settings about float type\n\nsys.float_info",
      "execution_count": 7,
      "outputs": [
        {
          "output_type": "execute_result",
          "execution_count": 7,
          "data": {
            "text/plain": "sys.float_info(max=1.7976931348623157e+308, max_exp=1024, max_10_exp=308, min=2.2250738585072014e-308, min_exp=-1021, min_10_exp=-307, dig=15, mant_dig=53, epsilon=2.220446049250313e-16, radix=2, rounds=1)"
          },
          "metadata": {}
        }
      ]
    },
    {
      "metadata": {
        "trusted": true
      },
      "cell_type": "code",
      "source": "# Convert True to int\n\nint(True)",
      "execution_count": 8,
      "outputs": [
        {
          "output_type": "execute_result",
          "execution_count": 8,
          "data": {
            "text/plain": "1"
          },
          "metadata": {}
        }
      ]
    },
    {
      "metadata": {
        "trusted": true
      },
      "cell_type": "code",
      "source": "# Convert 1 to boolean\n\nbool(1)",
      "execution_count": 9,
      "outputs": [
        {
          "output_type": "execute_result",
          "execution_count": 9,
          "data": {
            "text/plain": "True"
          },
          "metadata": {}
        }
      ]
    },
    {
      "metadata": {
        "trusted": true
      },
      "cell_type": "code",
      "source": "# Convert 0 to boolean\n\nbool(0)",
      "execution_count": 10,
      "outputs": [
        {
          "output_type": "execute_result",
          "execution_count": 10,
          "data": {
            "text/plain": "False"
          },
          "metadata": {}
        }
      ]
    },
    {
      "metadata": {
        "trusted": true
      },
      "cell_type": "code",
      "source": "# Convert True to float\n\nfloat(True)",
      "execution_count": 11,
      "outputs": [
        {
          "output_type": "execute_result",
          "execution_count": 11,
          "data": {
            "text/plain": "1.0"
          },
          "metadata": {}
        }
      ]
    },
    {
      "metadata": {
        "trusted": true
      },
      "cell_type": "markdown",
      "source": "### Strings"
    },
    {
      "metadata": {
        "trusted": true
      },
      "cell_type": "code",
      "source": "name = \"Kobe Bryant\"",
      "execution_count": 12,
      "outputs": []
    },
    {
      "metadata": {
        "trusted": true
      },
      "cell_type": "code",
      "source": "name",
      "execution_count": 13,
      "outputs": [
        {
          "output_type": "execute_result",
          "execution_count": 13,
          "data": {
            "text/plain": "'Kobe Bryant'"
          },
          "metadata": {}
        }
      ]
    },
    {
      "metadata": {
        "trusted": true
      },
      "cell_type": "code",
      "source": "name[0]",
      "execution_count": 14,
      "outputs": [
        {
          "output_type": "execute_result",
          "execution_count": 14,
          "data": {
            "text/plain": "'K'"
          },
          "metadata": {}
        }
      ]
    },
    {
      "metadata": {
        "trusted": true
      },
      "cell_type": "code",
      "source": "name[-1]",
      "execution_count": 15,
      "outputs": [
        {
          "output_type": "execute_result",
          "execution_count": 15,
          "data": {
            "text/plain": "'t'"
          },
          "metadata": {}
        }
      ]
    },
    {
      "metadata": {
        "trusted": true
      },
      "cell_type": "code",
      "source": "name[-2]",
      "execution_count": 16,
      "outputs": [
        {
          "output_type": "execute_result",
          "execution_count": 16,
          "data": {
            "text/plain": "'n'"
          },
          "metadata": {}
        }
      ]
    },
    {
      "metadata": {
        "trusted": true
      },
      "cell_type": "code",
      "source": "name[0:4]",
      "execution_count": 17,
      "outputs": [
        {
          "output_type": "execute_result",
          "execution_count": 17,
          "data": {
            "text/plain": "'Kobe'"
          },
          "metadata": {}
        }
      ]
    },
    {
      "metadata": {
        "trusted": true
      },
      "cell_type": "code",
      "source": "name[4]",
      "execution_count": 18,
      "outputs": [
        {
          "output_type": "execute_result",
          "execution_count": 18,
          "data": {
            "text/plain": "' '"
          },
          "metadata": {}
        }
      ]
    },
    {
      "metadata": {
        "trusted": true
      },
      "cell_type": "code",
      "source": "name[5:11]",
      "execution_count": 19,
      "outputs": [
        {
          "output_type": "execute_result",
          "execution_count": 19,
          "data": {
            "text/plain": "'Bryant'"
          },
          "metadata": {}
        }
      ]
    },
    {
      "metadata": {
        "trusted": true
      },
      "cell_type": "code",
      "source": "name[::2]",
      "execution_count": 20,
      "outputs": [
        {
          "output_type": "execute_result",
          "execution_count": 20,
          "data": {
            "text/plain": "'Kb rat'"
          },
          "metadata": {}
        }
      ]
    },
    {
      "metadata": {
        "trusted": true
      },
      "cell_type": "code",
      "source": "name[0:10:3]",
      "execution_count": 21,
      "outputs": [
        {
          "output_type": "execute_result",
          "execution_count": 21,
          "data": {
            "text/plain": "'Kern'"
          },
          "metadata": {}
        }
      ]
    },
    {
      "metadata": {
        "trusted": true
      },
      "cell_type": "code",
      "source": "statement = name+\" is the best\"\nstatement",
      "execution_count": 22,
      "outputs": [
        {
          "output_type": "execute_result",
          "execution_count": 22,
          "data": {
            "text/plain": "'Kobe Bryant is the best'"
          },
          "metadata": {}
        }
      ]
    },
    {
      "metadata": {
        "trusted": true
      },
      "cell_type": "code",
      "source": "name*3",
      "execution_count": 23,
      "outputs": [
        {
          "output_type": "execute_result",
          "execution_count": 23,
          "data": {
            "text/plain": "'Kobe BryantKobe BryantKobe Bryant'"
          },
          "metadata": {}
        }
      ]
    },
    {
      "metadata": {
        "trusted": true
      },
      "cell_type": "code",
      "source": "A = \"lord martin ahorrara trabajara\"",
      "execution_count": 24,
      "outputs": []
    },
    {
      "metadata": {
        "trusted": true
      },
      "cell_type": "code",
      "source": "B = A.upper()\nB",
      "execution_count": 25,
      "outputs": [
        {
          "output_type": "execute_result",
          "execution_count": 25,
          "data": {
            "text/plain": "'LORD MARTIN AHORRARA TRABAJARA'"
          },
          "metadata": {}
        }
      ]
    },
    {
      "metadata": {
        "trusted": true
      },
      "cell_type": "code",
      "source": "B = A.replace(\"martin\", \"teresita\")\nB",
      "execution_count": 26,
      "outputs": [
        {
          "output_type": "execute_result",
          "execution_count": 26,
          "data": {
            "text/plain": "'lord teresita ahorrara trabajara'"
          },
          "metadata": {}
        }
      ]
    },
    {
      "metadata": {
        "trusted": true
      },
      "cell_type": "code",
      "source": "\"0123456\".find('1')",
      "execution_count": 27,
      "outputs": [
        {
          "output_type": "execute_result",
          "execution_count": 27,
          "data": {
            "text/plain": "1"
          },
          "metadata": {}
        }
      ]
    },
    {
      "metadata": {
        "trusted": true
      },
      "cell_type": "code",
      "source": "Numbers=\"0123456\"\nNumbers[::2]",
      "execution_count": 28,
      "outputs": [
        {
          "output_type": "execute_result",
          "execution_count": 28,
          "data": {
            "text/plain": "'0246'"
          },
          "metadata": {}
        }
      ]
    },
    {
      "metadata": {
        "trusted": true
      },
      "cell_type": "code",
      "source": "# r will tell python that string will be display as raw string\n\nprint(r\" Michael Jackson \\ is the best\" )",
      "execution_count": 29,
      "outputs": [
        {
          "output_type": "stream",
          "text": " Michael Jackson \\ is the best\n",
          "name": "stdout"
        }
      ]
    },
    {
      "metadata": {
        "trusted": true
      },
      "cell_type": "code",
      "source": "# Find the substring in the string. Only the index of the first elment of substring in string will be the output\n\nName = \"Michael Jackson\"\nName.find('el')",
      "execution_count": 30,
      "outputs": [
        {
          "output_type": "execute_result",
          "execution_count": 30,
          "data": {
            "text/plain": "5"
          },
          "metadata": {}
        }
      ]
    },
    {
      "metadata": {
        "trusted": true
      },
      "cell_type": "code",
      "source": "# Find the substring in the string.\n\nName.find('Jack')",
      "execution_count": 31,
      "outputs": [
        {
          "output_type": "execute_result",
          "execution_count": 31,
          "data": {
            "text/plain": "8"
          },
          "metadata": {}
        }
      ]
    },
    {
      "metadata": {
        "trusted": true
      },
      "cell_type": "code",
      "source": "# If cannot find the substring in the string\n\nName.find('Jasdfasdasdf')",
      "execution_count": 32,
      "outputs": [
        {
          "output_type": "execute_result",
          "execution_count": 32,
          "data": {
            "text/plain": "-1"
          },
          "metadata": {}
        }
      ]
    },
    {
      "metadata": {},
      "cell_type": "markdown",
      "source": "## List and Tuples"
    },
    {
      "metadata": {
        "trusted": true
      },
      "cell_type": "code",
      "source": "# We can use the 'len' command to obtain the lenght of the tuple\ntuple_1 = ('Disco',10,1.2)\ntuple_2 = tuple_1+('Cassette',20)",
      "execution_count": 33,
      "outputs": []
    },
    {
      "metadata": {
        "trusted": true
      },
      "cell_type": "code",
      "source": "tuple_2",
      "execution_count": 34,
      "outputs": [
        {
          "output_type": "execute_result",
          "execution_count": 34,
          "data": {
            "text/plain": "('Disco', 10, 1.2, 'Cassette', 20)"
          },
          "metadata": {}
        }
      ]
    },
    {
      "metadata": {
        "trusted": true
      },
      "cell_type": "code",
      "source": "tuple_2[0:3]",
      "execution_count": 35,
      "outputs": [
        {
          "output_type": "execute_result",
          "execution_count": 35,
          "data": {
            "text/plain": "('Disco', 10, 1.2)"
          },
          "metadata": {}
        }
      ]
    },
    {
      "metadata": {
        "trusted": true
      },
      "cell_type": "code",
      "source": "tuple_2[3:5]",
      "execution_count": 36,
      "outputs": [
        {
          "output_type": "execute_result",
          "execution_count": 36,
          "data": {
            "text/plain": "('Cassette', 20)"
          },
          "metadata": {}
        }
      ]
    },
    {
      "metadata": {
        "trusted": true
      },
      "cell_type": "code",
      "source": "ratings = (10,9,6,5,10,8,9,6,2)",
      "execution_count": 37,
      "outputs": []
    },
    {
      "metadata": {
        "trusted": true
      },
      "cell_type": "code",
      "source": "ratings_sorted = sorted(ratings)",
      "execution_count": 38,
      "outputs": []
    },
    {
      "metadata": {
        "trusted": true
      },
      "cell_type": "code",
      "source": "ratings_sorted",
      "execution_count": 39,
      "outputs": [
        {
          "output_type": "execute_result",
          "execution_count": 39,
          "data": {
            "text/plain": "[2, 5, 6, 6, 8, 9, 9, 10, 10]"
          },
          "metadata": {}
        }
      ]
    },
    {
      "metadata": {
        "trusted": true
      },
      "cell_type": "code",
      "source": "# We can combine Tuples\nnest = (1,2,('pop','rock'),(3,4),('disco'),(1,2))",
      "execution_count": 40,
      "outputs": []
    },
    {
      "metadata": {
        "trusted": true
      },
      "cell_type": "code",
      "source": "# We can select tuples from the nesting\nnest[2]",
      "execution_count": 41,
      "outputs": [
        {
          "output_type": "execute_result",
          "execution_count": 41,
          "data": {
            "text/plain": "('pop', 'rock')"
          },
          "metadata": {}
        }
      ]
    },
    {
      "metadata": {
        "trusted": true
      },
      "cell_type": "code",
      "source": "# If we select an index from a tuple, we can access values from the tuple\nnest[2][1]",
      "execution_count": 42,
      "outputs": [
        {
          "output_type": "execute_result",
          "execution_count": 42,
          "data": {
            "text/plain": "'rock'"
          },
          "metadata": {}
        }
      ]
    },
    {
      "metadata": {
        "trusted": true
      },
      "cell_type": "code",
      "source": "# We can see this as a tree and access different tuple levels and variables, for example the letter o on tuple 2\nnest[2][1][1]",
      "execution_count": 43,
      "outputs": [
        {
          "output_type": "execute_result",
          "execution_count": 43,
          "data": {
            "text/plain": "'o'"
          },
          "metadata": {}
        }
      ]
    },
    {
      "metadata": {
        "trusted": true
      },
      "cell_type": "code",
      "source": "# List combination\nlist1 = [\"Michael Jordan\", \"May\", 10, 1994]\nlist2 = list1+[\"Champions\",2]\nlist2\nlist1",
      "execution_count": 44,
      "outputs": [
        {
          "output_type": "execute_result",
          "execution_count": 44,
          "data": {
            "text/plain": "['Michael Jordan', 'May', 10, 1994]"
          },
          "metadata": {}
        }
      ]
    },
    {
      "metadata": {
        "trusted": true
      },
      "cell_type": "code",
      "source": "list1.extend([\"Athlete\",1])\nlist1",
      "execution_count": 45,
      "outputs": [
        {
          "output_type": "execute_result",
          "execution_count": 45,
          "data": {
            "text/plain": "['Michael Jordan', 'May', 10, 1994, 'Athlete', 1]"
          },
          "metadata": {}
        }
      ]
    },
    {
      "metadata": {
        "trusted": true
      },
      "cell_type": "code",
      "source": "list1.append([\"Las\",\"dugs\"])\nlist1",
      "execution_count": 46,
      "outputs": [
        {
          "output_type": "execute_result",
          "execution_count": 46,
          "data": {
            "text/plain": "['Michael Jordan', 'May', 10, 1994, 'Athlete', 1, ['Las', 'dugs']]"
          },
          "metadata": {}
        }
      ]
    },
    {
      "metadata": {
        "trusted": true
      },
      "cell_type": "code",
      "source": "list1 = [\"Michael Jordan\", \"May\", 10, 1994]\nlist1",
      "execution_count": 47,
      "outputs": [
        {
          "output_type": "execute_result",
          "execution_count": 47,
          "data": {
            "text/plain": "['Michael Jordan', 'May', 10, 1994]"
          },
          "metadata": {}
        }
      ]
    },
    {
      "metadata": {
        "trusted": true
      },
      "cell_type": "code",
      "source": "list1.extend([1,\"Majesty\"])",
      "execution_count": 48,
      "outputs": []
    },
    {
      "metadata": {
        "trusted": true
      },
      "cell_type": "code",
      "source": "list1",
      "execution_count": 49,
      "outputs": [
        {
          "output_type": "execute_result",
          "execution_count": 49,
          "data": {
            "text/plain": "['Michael Jordan', 'May', 10, 1994, 1, 'Majesty']"
          },
          "metadata": {}
        }
      ]
    },
    {
      "metadata": {
        "trusted": true
      },
      "cell_type": "code",
      "source": "list1.append([\"la\",\"brissa\"])\nlist1",
      "execution_count": 50,
      "outputs": [
        {
          "output_type": "execute_result",
          "execution_count": 50,
          "data": {
            "text/plain": "['Michael Jordan', 'May', 10, 1994, 1, 'Majesty', ['la', 'brissa']]"
          },
          "metadata": {}
        }
      ]
    },
    {
      "metadata": {
        "trusted": true
      },
      "cell_type": "code",
      "source": "del(list1[5])",
      "execution_count": 51,
      "outputs": []
    },
    {
      "metadata": {
        "trusted": true
      },
      "cell_type": "code",
      "source": "list1",
      "execution_count": 52,
      "outputs": [
        {
          "output_type": "execute_result",
          "execution_count": 52,
          "data": {
            "text/plain": "['Michael Jordan', 'May', 10, 1994, 1, ['la', 'brissa']]"
          },
          "metadata": {}
        }
      ]
    },
    {
      "metadata": {
        "trusted": true
      },
      "cell_type": "code",
      "source": "L = [\"Michael Jackson\",10.1,1982]",
      "execution_count": 53,
      "outputs": []
    },
    {
      "metadata": {
        "trusted": true
      },
      "cell_type": "code",
      "source": "L.append(['pop',10])",
      "execution_count": 54,
      "outputs": []
    },
    {
      "metadata": {
        "trusted": true
      },
      "cell_type": "code",
      "source": "L",
      "execution_count": 55,
      "outputs": [
        {
          "output_type": "execute_result",
          "execution_count": 55,
          "data": {
            "text/plain": "['Michael Jackson', 10.1, 1982, ['pop', 10]]"
          },
          "metadata": {}
        }
      ]
    },
    {
      "metadata": {
        "trusted": true
      },
      "cell_type": "code",
      "source": "len(L)",
      "execution_count": 56,
      "outputs": [
        {
          "output_type": "execute_result",
          "execution_count": 56,
          "data": {
            "text/plain": "4"
          },
          "metadata": {}
        }
      ]
    },
    {
      "metadata": {
        "trusted": true
      },
      "cell_type": "code",
      "source": "L.extend(['pop',10])\nL",
      "execution_count": 57,
      "outputs": [
        {
          "output_type": "execute_result",
          "execution_count": 57,
          "data": {
            "text/plain": "['Michael Jackson', 10.1, 1982, ['pop', 10], 'pop', 10]"
          },
          "metadata": {}
        }
      ]
    },
    {
      "metadata": {
        "trusted": true
      },
      "cell_type": "code",
      "source": "L.append(\"A\")\nL",
      "execution_count": 58,
      "outputs": [
        {
          "output_type": "execute_result",
          "execution_count": 58,
          "data": {
            "text/plain": "['Michael Jackson', 10.1, 1982, ['pop', 10], 'pop', 10, 'A']"
          },
          "metadata": {}
        }
      ]
    },
    {
      "metadata": {
        "trusted": true
      },
      "cell_type": "code",
      "source": "A = [\"disco\",10,1.2]",
      "execution_count": 59,
      "outputs": []
    },
    {
      "metadata": {
        "trusted": true
      },
      "cell_type": "code",
      "source": "# We can change the elements of a list\nA[0] = \"Hard Rock\"",
      "execution_count": 60,
      "outputs": []
    },
    {
      "metadata": {
        "trusted": true
      },
      "cell_type": "code",
      "source": "A",
      "execution_count": 61,
      "outputs": [
        {
          "output_type": "execute_result",
          "execution_count": 61,
          "data": {
            "text/plain": "['Hard Rock', 10, 1.2]"
          },
          "metadata": {}
        }
      ]
    },
    {
      "metadata": {
        "trusted": true
      },
      "cell_type": "code",
      "source": "# You can delete elements\ndel(A[0])",
      "execution_count": 62,
      "outputs": []
    },
    {
      "metadata": {
        "trusted": true
      },
      "cell_type": "code",
      "source": "A",
      "execution_count": 63,
      "outputs": [
        {
          "output_type": "execute_result",
          "execution_count": 63,
          "data": {
            "text/plain": "[10, 1.2]"
          },
          "metadata": {}
        }
      ]
    },
    {
      "metadata": {
        "trusted": true
      },
      "cell_type": "code",
      "source": "# We can convert a string to a list using split.\n\"Hard Rock\".split()",
      "execution_count": 64,
      "outputs": [
        {
          "output_type": "execute_result",
          "execution_count": 64,
          "data": {
            "text/plain": "['Hard', 'Rock']"
          },
          "metadata": {}
        }
      ]
    },
    {
      "metadata": {
        "trusted": true
      },
      "cell_type": "code",
      "source": "# We can use the split funciton to separate strings on a specific character, know as a delimeter\n'A,B,C,D'.split(',')",
      "execution_count": 65,
      "outputs": [
        {
          "output_type": "execute_result",
          "execution_count": 65,
          "data": {
            "text/plain": "['A', 'B', 'C', 'D']"
          },
          "metadata": {}
        }
      ]
    },
    {
      "metadata": {
        "trusted": true
      },
      "cell_type": "code",
      "source": "A = ['Hard Rock',10,1.2]\nB = A",
      "execution_count": 66,
      "outputs": []
    },
    {
      "metadata": {
        "trusted": true
      },
      "cell_type": "code",
      "source": "B[0] = \"Hard Rock\"\nA[0] = \"A Banana!\"",
      "execution_count": 67,
      "outputs": []
    },
    {
      "metadata": {
        "trusted": true
      },
      "cell_type": "code",
      "source": "print(A)\nprint(B)",
      "execution_count": 68,
      "outputs": [
        {
          "output_type": "stream",
          "text": "['A Banana!', 10, 1.2]\n['A Banana!', 10, 1.2]\n",
          "name": "stdout"
        }
      ]
    },
    {
      "metadata": {
        "trusted": true
      },
      "cell_type": "code",
      "source": "B = A[:]",
      "execution_count": 69,
      "outputs": []
    },
    {
      "metadata": {
        "trusted": true
      },
      "cell_type": "code",
      "source": "B",
      "execution_count": 70,
      "outputs": [
        {
          "output_type": "execute_result",
          "execution_count": 70,
          "data": {
            "text/plain": "['A Banana!', 10, 1.2]"
          },
          "metadata": {}
        }
      ]
    },
    {
      "metadata": {
        "trusted": true
      },
      "cell_type": "code",
      "source": "A",
      "execution_count": 71,
      "outputs": [
        {
          "output_type": "execute_result",
          "execution_count": 71,
          "data": {
            "text/plain": "['A Banana!', 10, 1.2]"
          },
          "metadata": {}
        }
      ]
    },
    {
      "metadata": {
        "trusted": true
      },
      "cell_type": "code",
      "source": "B[0]=\"Hard Rock\"",
      "execution_count": 72,
      "outputs": []
    },
    {
      "metadata": {
        "trusted": true
      },
      "cell_type": "code",
      "source": "print(A)\nprint(B)",
      "execution_count": 73,
      "outputs": [
        {
          "output_type": "stream",
          "text": "['A Banana!', 10, 1.2]\n['Hard Rock', 10, 1.2]\n",
          "name": "stdout"
        }
      ]
    },
    {
      "metadata": {
        "trusted": true
      },
      "cell_type": "code",
      "source": "# Get more info using the help command\nhelp(A)",
      "execution_count": 74,
      "outputs": [
        {
          "output_type": "stream",
          "text": "Help on list object:\n\nclass list(object)\n |  list() -> new empty list\n |  list(iterable) -> new list initialized from iterable's items\n |  \n |  Methods defined here:\n |  \n |  __add__(self, value, /)\n |      Return self+value.\n |  \n |  __contains__(self, key, /)\n |      Return key in self.\n |  \n |  __delitem__(self, key, /)\n |      Delete self[key].\n |  \n |  __eq__(self, value, /)\n |      Return self==value.\n |  \n |  __ge__(self, value, /)\n |      Return self>=value.\n |  \n |  __getattribute__(self, name, /)\n |      Return getattr(self, name).\n |  \n |  __getitem__(...)\n |      x.__getitem__(y) <==> x[y]\n |  \n |  __gt__(self, value, /)\n |      Return self>value.\n |  \n |  __iadd__(self, value, /)\n |      Implement self+=value.\n |  \n |  __imul__(self, value, /)\n |      Implement self*=value.\n |  \n |  __init__(self, /, *args, **kwargs)\n |      Initialize self.  See help(type(self)) for accurate signature.\n |  \n |  __iter__(self, /)\n |      Implement iter(self).\n |  \n |  __le__(self, value, /)\n |      Return self<=value.\n |  \n |  __len__(self, /)\n |      Return len(self).\n |  \n |  __lt__(self, value, /)\n |      Return self<value.\n |  \n |  __mul__(self, value, /)\n |      Return self*value.\n |  \n |  __ne__(self, value, /)\n |      Return self!=value.\n |  \n |  __new__(*args, **kwargs) from builtins.type\n |      Create and return a new object.  See help(type) for accurate signature.\n |  \n |  __repr__(self, /)\n |      Return repr(self).\n |  \n |  __reversed__(...)\n |      L.__reversed__() -- return a reverse iterator over the list\n |  \n |  __rmul__(self, value, /)\n |      Return value*self.\n |  \n |  __setitem__(self, key, value, /)\n |      Set self[key] to value.\n |  \n |  __sizeof__(...)\n |      L.__sizeof__() -- size of L in memory, in bytes\n |  \n |  append(...)\n |      L.append(object) -> None -- append object to end\n |  \n |  clear(...)\n |      L.clear() -> None -- remove all items from L\n |  \n |  copy(...)\n |      L.copy() -> list -- a shallow copy of L\n |  \n |  count(...)\n |      L.count(value) -> integer -- return number of occurrences of value\n |  \n |  extend(...)\n |      L.extend(iterable) -> None -- extend list by appending elements from the iterable\n |  \n |  index(...)\n |      L.index(value, [start, [stop]]) -> integer -- return first index of value.\n |      Raises ValueError if the value is not present.\n |  \n |  insert(...)\n |      L.insert(index, object) -- insert object before index\n |  \n |  pop(...)\n |      L.pop([index]) -> item -- remove and return item at index (default last).\n |      Raises IndexError if list is empty or index is out of range.\n |  \n |  remove(...)\n |      L.remove(value) -> None -- remove first occurrence of value.\n |      Raises ValueError if the value is not present.\n |  \n |  reverse(...)\n |      L.reverse() -- reverse *IN PLACE*\n |  \n |  sort(...)\n |      L.sort(key=None, reverse=False) -> None -- stable sort *IN PLACE*\n |  \n |  ----------------------------------------------------------------------\n |  Data and other attributes defined here:\n |  \n |  __hash__ = None\n\n",
          "name": "stdout"
        }
      ]
    },
    {
      "metadata": {
        "trusted": true
      },
      "cell_type": "code",
      "source": "A=(0,1,2,3)",
      "execution_count": 75,
      "outputs": []
    },
    {
      "metadata": {
        "trusted": true
      },
      "cell_type": "code",
      "source": "A[-1]",
      "execution_count": 76,
      "outputs": [
        {
          "output_type": "execute_result",
          "execution_count": 76,
          "data": {
            "text/plain": "3"
          },
          "metadata": {}
        }
      ]
    },
    {
      "metadata": {
        "trusted": true
      },
      "cell_type": "code",
      "source": "B=[\"a\",\"b\",\"c\"]",
      "execution_count": 77,
      "outputs": []
    },
    {
      "metadata": {
        "trusted": true
      },
      "cell_type": "code",
      "source": "B[1:]",
      "execution_count": 78,
      "outputs": [
        {
          "output_type": "execute_result",
          "execution_count": 78,
          "data": {
            "text/plain": "['b', 'c']"
          },
          "metadata": {}
        }
      ]
    },
    {
      "metadata": {
        "trusted": true
      },
      "cell_type": "markdown",
      "source": "## Sets"
    },
    {
      "metadata": {
        "trusted": true
      },
      "cell_type": "code",
      "source": "# When the set is created, duplicate items will not be present. Like \"rock\"\nSet1 = {\"pop\",\"rock\",\"soul\",\"hard rock\",\"rock\",\"R&B\",\"rock\",\"disco\"}",
      "execution_count": 79,
      "outputs": []
    },
    {
      "metadata": {
        "trusted": true
      },
      "cell_type": "code",
      "source": "Set1",
      "execution_count": 80,
      "outputs": [
        {
          "output_type": "execute_result",
          "execution_count": 80,
          "data": {
            "text/plain": "{'R&B', 'disco', 'hard rock', 'pop', 'rock', 'soul'}"
          },
          "metadata": {}
        }
      ]
    },
    {
      "metadata": {},
      "cell_type": "markdown",
      "source": "### Creating a set"
    },
    {
      "metadata": {
        "trusted": true
      },
      "cell_type": "code",
      "source": "# Create a set from a list\nalbum_list = ['Michael Jackson','Triller','Triller',1982]",
      "execution_count": 81,
      "outputs": []
    },
    {
      "metadata": {
        "trusted": true
      },
      "cell_type": "code",
      "source": "album_set = set(album_list)\nalbum_set",
      "execution_count": 82,
      "outputs": [
        {
          "output_type": "execute_result",
          "execution_count": 82,
          "data": {
            "text/plain": "{1982, 'Michael Jackson', 'Triller'}"
          },
          "metadata": {}
        }
      ]
    },
    {
      "metadata": {},
      "cell_type": "markdown",
      "source": "### Set operations"
    },
    {
      "metadata": {
        "trusted": true
      },
      "cell_type": "code",
      "source": "# We can add an item to a set using the add function.\nA = {'Thriller','Back in Black','AC/DC'}\nA",
      "execution_count": 83,
      "outputs": [
        {
          "output_type": "execute_result",
          "execution_count": 83,
          "data": {
            "text/plain": "{'AC/DC', 'Back in Black', 'Thriller'}"
          },
          "metadata": {}
        }
      ]
    },
    {
      "metadata": {
        "trusted": true
      },
      "cell_type": "code",
      "source": "A.add(\"NSYNC\")\nA",
      "execution_count": 84,
      "outputs": [
        {
          "output_type": "execute_result",
          "execution_count": 84,
          "data": {
            "text/plain": "{'AC/DC', 'Back in Black', 'NSYNC', 'Thriller'}"
          },
          "metadata": {}
        }
      ]
    },
    {
      "metadata": {
        "trusted": true
      },
      "cell_type": "code",
      "source": "# We can remove an item using the remove function\nA.remove(\"NSYNC\")\nA",
      "execution_count": 85,
      "outputs": [
        {
          "output_type": "execute_result",
          "execution_count": 85,
          "data": {
            "text/plain": "{'AC/DC', 'Back in Black', 'Thriller'}"
          },
          "metadata": {}
        }
      ]
    },
    {
      "metadata": {
        "trusted": true
      },
      "cell_type": "code",
      "source": "# We can verify if the element is in the set using the \"in\" command.\n\"Back in Black\" in A",
      "execution_count": 86,
      "outputs": [
        {
          "output_type": "execute_result",
          "execution_count": 86,
          "data": {
            "text/plain": "True"
          },
          "metadata": {}
        }
      ]
    },
    {
      "metadata": {
        "trusted": true
      },
      "cell_type": "code",
      "source": "\"Who\" in A",
      "execution_count": 87,
      "outputs": [
        {
          "output_type": "execute_result",
          "execution_count": 87,
          "data": {
            "text/plain": "False"
          },
          "metadata": {}
        }
      ]
    },
    {
      "metadata": {
        "trusted": true
      },
      "cell_type": "code",
      "source": "# Combine sets\nalbum_set_1 = {\"AC/DC\", \"Back in Black\", \"Thriller\"}\nalbum_set_2 = {\"AC/DC\", \"Back in Black\", \"The Dark Side of the Moon\"}",
      "execution_count": 88,
      "outputs": []
    },
    {
      "metadata": {
        "trusted": true
      },
      "cell_type": "code",
      "source": "album_set_3 = album_set_1 & album_set_2\nalbum_set_3",
      "execution_count": 89,
      "outputs": [
        {
          "output_type": "execute_result",
          "execution_count": 89,
          "data": {
            "text/plain": "{'AC/DC', 'Back in Black'}"
          },
          "metadata": {}
        }
      ]
    },
    {
      "metadata": {
        "trusted": true
      },
      "cell_type": "code",
      "source": "album_set_1.union(album_set_2)",
      "execution_count": 90,
      "outputs": [
        {
          "output_type": "execute_result",
          "execution_count": 90,
          "data": {
            "text/plain": "{'AC/DC', 'Back in Black', 'The Dark Side of the Moon', 'Thriller'}"
          },
          "metadata": {}
        }
      ]
    },
    {
      "metadata": {
        "trusted": true
      },
      "cell_type": "code",
      "source": "# We can check if a set is a subset using the is subset method\nalbum_set_3.issubset(album_set_1)",
      "execution_count": 91,
      "outputs": [
        {
          "output_type": "execute_result",
          "execution_count": 91,
          "data": {
            "text/plain": "True"
          },
          "metadata": {}
        }
      ]
    },
    {
      "metadata": {
        "trusted": true
      },
      "cell_type": "code",
      "source": "S={'A','B','C'}\n\nU={'A','Z','C'}\n\nS & U",
      "execution_count": 92,
      "outputs": [
        {
          "output_type": "execute_result",
          "execution_count": 92,
          "data": {
            "text/plain": "{'A', 'C'}"
          },
          "metadata": {}
        }
      ]
    },
    {
      "metadata": {
        "trusted": true
      },
      "cell_type": "code",
      "source": "# Find the difference in set1 but not set2\n\nalbum_set_1.difference(album_set_2)  ",
      "execution_count": 93,
      "outputs": [
        {
          "output_type": "execute_result",
          "execution_count": 93,
          "data": {
            "text/plain": "{'Thriller'}"
          },
          "metadata": {}
        }
      ]
    },
    {
      "metadata": {
        "trusted": true
      },
      "cell_type": "markdown",
      "source": "## Dictionaries"
    },
    {
      "metadata": {
        "trusted": true
      },
      "cell_type": "code",
      "source": "# Denoted with curly brackets { } keys need to be immutable and unique\n{\"key 1\":1, \"key 2\":\"2\", \"key 3\":[3,3,3], \"key 4\":(4,4,4), (\"key 5\"):5}",
      "execution_count": 94,
      "outputs": [
        {
          "output_type": "execute_result",
          "execution_count": 94,
          "data": {
            "text/plain": "{'key 1': 1, 'key 2': '2', 'key 3': [3, 3, 3], 'key 4': (4, 4, 4), 'key 5': 5}"
          },
          "metadata": {}
        }
      ]
    },
    {
      "metadata": {
        "trusted": true
      },
      "cell_type": "code",
      "source": "# To look at the value we use square brackets\nDict[\"Thriller\"]\n    \n# Add a new entry to the dictionary\nDict[\"Graduation\"]='2007'\n\n# Delete an entry as follows \ndel(Dict['Thriller'])\n\n# Verify an element is in the dictionary\n'The bodyguard' in Dict #True\n'Starboy' in Dict #False\n\n# See all the keys in the dictionary \nDict.keys()\n\n# See all the values in the dictionary\nDict.values()",
      "execution_count": 95,
      "outputs": [
        {
          "output_type": "error",
          "ename": "NameError",
          "evalue": "name 'Dict' is not defined",
          "traceback": [
            "\u001b[0;31m---------------------------------------------------------------------------\u001b[0m",
            "\u001b[0;31mNameError\u001b[0m                                 Traceback (most recent call last)",
            "\u001b[0;32m<ipython-input-95-3bf71b5f6ee2>\u001b[0m in \u001b[0;36m<module>\u001b[0;34m\u001b[0m\n\u001b[1;32m      1\u001b[0m \u001b[0;31m# To look at the value we use square brackets\u001b[0m\u001b[0;34m\u001b[0m\u001b[0;34m\u001b[0m\u001b[0m\n\u001b[0;32m----> 2\u001b[0;31m \u001b[0mDict\u001b[0m\u001b[0;34m[\u001b[0m\u001b[0;34m\"Thriller\"\u001b[0m\u001b[0;34m]\u001b[0m\u001b[0;34m\u001b[0m\u001b[0m\n\u001b[0m\u001b[1;32m      3\u001b[0m \u001b[0;34m\u001b[0m\u001b[0m\n\u001b[1;32m      4\u001b[0m \u001b[0;31m# Add a new entry to the dictionary\u001b[0m\u001b[0;34m\u001b[0m\u001b[0;34m\u001b[0m\u001b[0m\n\u001b[1;32m      5\u001b[0m \u001b[0mDict\u001b[0m\u001b[0;34m[\u001b[0m\u001b[0;34m\"Graduation\"\u001b[0m\u001b[0;34m]\u001b[0m\u001b[0;34m=\u001b[0m\u001b[0;34m'2007'\u001b[0m\u001b[0;34m\u001b[0m\u001b[0m\n",
            "\u001b[0;31mNameError\u001b[0m: name 'Dict' is not defined"
          ]
        }
      ]
    },
    {
      "metadata": {},
      "cell_type": "markdown",
      "source": "## Learning Objectives\n### In this lesson you will learn about:\n- Conditions and Branching\n- Loops\n- Functions\n- Objects and Classes"
    },
    {
      "metadata": {
        "trusted": true
      },
      "cell_type": "code",
      "source": "# Condition statement example\n\nalbum_year = 1983\nalbum_year = 1970\n\nif album_year > 1980:\n    print(\"Album year is greater than 1980\")\n    \nprint('do something..')",
      "execution_count": 97,
      "outputs": [
        {
          "output_type": "stream",
          "text": "do something..\n",
          "name": "stdout"
        }
      ]
    },
    {
      "metadata": {},
      "cell_type": "markdown",
      "source": "## Loops"
    },
    {
      "metadata": {},
      "cell_type": "markdown",
      "source": "### For Loops"
    },
    {
      "metadata": {
        "trusted": true
      },
      "cell_type": "code",
      "source": "# For loop\n# Enables you to execute a code block multiple times. \n# Sequence example. Range(N)\nrange(3)",
      "execution_count": 98,
      "outputs": [
        {
          "output_type": "execute_result",
          "execution_count": 98,
          "data": {
            "text/plain": "range(0, 3)"
          },
          "metadata": {}
        }
      ]
    },
    {
      "metadata": {
        "trusted": true
      },
      "cell_type": "code",
      "source": "# Example:\ndates = [1982,1980,1973]\nN = len(dates)\n\nfor i in range(N):\n    print(dates[i])  ",
      "execution_count": 99,
      "outputs": [
        {
          "output_type": "stream",
          "text": "1982\n1980\n1973\n",
          "name": "stdout"
        }
      ]
    },
    {
      "metadata": {
        "trusted": true
      },
      "cell_type": "code",
      "source": "# Repeat the example\ndates = [1982, 1980, 1973]\nN = len(dates)\n\nfor i in range(N):\n    print(dates[i])",
      "execution_count": 100,
      "outputs": [
        {
          "output_type": "stream",
          "text": "1982\n1980\n1973\n",
          "name": "stdout"
        }
      ]
    },
    {
      "metadata": {
        "trusted": true
      },
      "cell_type": "code",
      "source": "# In this example we can print out a sequence between 0 - 7\n# Example of for loop\n\nfor i in range(0, 8):\n    print(i)",
      "execution_count": 101,
      "outputs": [
        {
          "output_type": "stream",
          "text": "0\n1\n2\n3\n4\n5\n6\n7\n",
          "name": "stdout"
        }
      ]
    },
    {
      "metadata": {
        "trusted": true
      },
      "cell_type": "code",
      "source": "# Repeat the example\nfor i in range (0,8):\n    print(i)",
      "execution_count": 102,
      "outputs": [
        {
          "output_type": "stream",
          "text": "0\n1\n2\n3\n4\n5\n6\n7\n",
          "name": "stdout"
        }
      ]
    },
    {
      "metadata": {
        "trusted": true
      },
      "cell_type": "code",
      "source": "# We can change the elements in a list\n# Use for loop to change the elements in list\n\nsquares = ['red', 'yellow', 'green', 'purple', 'blue']\n\nfor i in range(0, 5):\n    print(\"Before square \", i, 'is',  squares[i])\n    squares[i] = 'weight'\n    print(\"After square \", i, 'is',  squares[i])",
      "execution_count": 103,
      "outputs": [
        {
          "output_type": "stream",
          "text": "Before square  0 is red\nAfter square  0 is weight\nBefore square  1 is yellow\nAfter square  1 is weight\nBefore square  2 is green\nAfter square  2 is weight\nBefore square  3 is purple\nAfter square  3 is weight\nBefore square  4 is blue\nAfter square  4 is weight\n",
          "name": "stdout"
        }
      ]
    },
    {
      "metadata": {
        "trusted": true
      },
      "cell_type": "code",
      "source": "# Repeat the example \nsquares = ['red','yellow','green','purple','blue']\n\nfor i in range(0,2):\n    print(\"Before square\",i,'is',squares[i])\n    squares[i] = 'white'\n    print(\"After square\",i,'is',squares[i])",
      "execution_count": 104,
      "outputs": [
        {
          "output_type": "stream",
          "text": "Before square 0 is red\nAfter square 0 is white\nBefore square 1 is yellow\nAfter square 1 is white\n",
          "name": "stdout"
        }
      ]
    },
    {
      "metadata": {
        "trusted": true
      },
      "cell_type": "code",
      "source": "# We can access the index and the elements of a list \n# Loop through the list and iterate on both index and element value\n\nsquares=['red', 'yellow', 'green', 'purple', 'blue']\n\nfor i, square in enumerate(squares):\n    print(i, square)",
      "execution_count": 105,
      "outputs": [
        {
          "output_type": "stream",
          "text": "0 red\n1 yellow\n2 green\n3 purple\n4 blue\n",
          "name": "stdout"
        }
      ]
    },
    {
      "metadata": {
        "trusted": true
      },
      "cell_type": "code",
      "source": "# Repeat the example\nsquares = ['red','yellow','green','purple','blue']\nfor i, square in enumerate(squares):\n    print(i,square)",
      "execution_count": 106,
      "outputs": [
        {
          "output_type": "stream",
          "text": "0 red\n1 yellow\n2 green\n3 purple\n4 blue\n",
          "name": "stdout"
        }
      ]
    },
    {
      "metadata": {},
      "cell_type": "markdown",
      "source": "### While Loops"
    },
    {
      "metadata": {
        "trusted": true
      },
      "cell_type": "code",
      "source": "# While loops exist as a tool for repeated execution based on a condition. The code block will keep being executed until the given logical condition returns a False Boolean value.\n# While Loop Example\n\ndates = [1982, 1980, 1973, 2000]\n\ni = 0\nyear = 0\n\nwhile(year != 1973):\n    year = dates[i]\n    i = i + 1\n    print(year)\n\nprint(\"It took \", i ,\"repetitions to get out of loop.\")",
      "execution_count": 107,
      "outputs": [
        {
          "output_type": "stream",
          "text": "1982\n1980\n1973\nIt took  3 repetitions to get out of loop.\n",
          "name": "stdout"
        }
      ]
    },
    {
      "metadata": {
        "trusted": true
      },
      "cell_type": "code",
      "source": "# Repeat the example\ndates = [1982, 1980, 1973, 2000]\ni = 0\nyear = 0\n\nwhile(year != 1973):\n    year=dates[i]\n    i = i + 1\n    print(year)\nprint(\"It took\",i,\"repetitions to get out of loop\")\n    ",
      "execution_count": 108,
      "outputs": [
        {
          "output_type": "stream",
          "text": "1982\n1980\n1973\nIt took 3 repetitions to get out of loop\n",
          "name": "stdout"
        }
      ]
    },
    {
      "metadata": {
        "trusted": true
      },
      "cell_type": "code",
      "source": "# Practice\n# Write your code below and press Shift+Enter to execute\nfor i in range(-5,6):\n    print(i)\n    \n# Write your code below and press Shift+Enter to execute\nGenres = ['rock','R&B','Soundtrack',\"R&B\",'soul','pop']\nN = len(Genres)\n\nfor gen in Genres:\n    print(gen)\n\n# If score is less than six, exit the loop\n# Write your code below and press Shift+Enter to execute\nplay_list_ratings = [10,9.5,10,8,7.5,5,10,10]\ni = 1\nmin_score = play_list_ratings[0]\n\nwhile(min_score >= 6):\n    print(min_score)\n    min_score = play_list_ratings[i]\n    i = i + 1\n",
      "execution_count": 109,
      "outputs": [
        {
          "output_type": "stream",
          "text": "-5\n-4\n-3\n-2\n-1\n0\n1\n2\n3\n4\n5\nrock\nR&B\nSoundtrack\nR&B\nsoul\npop\n10\n9.5\n10\n8\n7.5\n",
          "name": "stdout"
        }
      ]
    },
    {
      "metadata": {
        "trusted": true
      },
      "cell_type": "code",
      "source": "movie_year = 2000\nif(movie_year<1990) or (movie_year>1999):\n    print(\"The movie was made on the 80's or 2000's'\")\nelse:\n    print(\"The movie was made on the 90's\")",
      "execution_count": 110,
      "outputs": [
        {
          "output_type": "stream",
          "text": "The movie was made on the 80's or 2000's'\n",
          "name": "stdout"
        }
      ]
    },
    {
      "metadata": {
        "trusted": true
      },
      "cell_type": "code",
      "source": "# Video exapmle\n# The variable i is the index and the variable square is the corresponding element in the list \nsquares = [\"red\",\"yellow\",\"green\"]\n\nfor i, square in enumerate(squares):\n    square\n    i",
      "execution_count": 111,
      "outputs": []
    },
    {
      "metadata": {
        "trusted": true
      },
      "cell_type": "code",
      "source": "# While Loop\nsquares = [\"Orange\",\"Orange\",\"Orange\",\"Purple\",\"Red\"]\nnew_squares = []\ni = 0\nwhile(squares[i] == \"Orange\"):\n    new_squares.append(squares[i])\n    i =i+1  ",
      "execution_count": 112,
      "outputs": []
    },
    {
      "metadata": {},
      "cell_type": "markdown",
      "source": "## Functions"
    },
    {
      "metadata": {
        "trusted": true
      },
      "cell_type": "code",
      "source": "# Loop on functions\ndef printstuff(stuff):\n    for i,s in enumerate(stuff):\n        print(\"Album\",i,\"Rating is\",s)\nalbum_ratings = [10,8.5,9.5]\nprintstuff(album_ratings)",
      "execution_count": 113,
      "outputs": [
        {
          "output_type": "stream",
          "text": "Album 0 Rating is 10\nAlbum 1 Rating is 8.5\nAlbum 2 Rating is 9.5\n",
          "name": "stdout"
        }
      ]
    },
    {
      "metadata": {
        "trusted": true
      },
      "cell_type": "code",
      "source": "# Again\ndef month(number):\n    for i,m in enumerate(number):\n        print(\"Mont\",i,\"is\",m)\nmonth_year = [\"unreal\",\"January\",\"February\",\"March\",\"April\",\"May\",\"my Baby's birth month\"]\nmonth(month_year)",
      "execution_count": 114,
      "outputs": [
        {
          "output_type": "stream",
          "text": "Mont 0 is unreal\nMont 1 is January\nMont 2 is February\nMont 3 is March\nMont 4 is April\nMont 5 is May\nMont 6 is my Baby's birth month\n",
          "name": "stdout"
        }
      ]
    },
    {
      "metadata": {
        "trusted": true
      },
      "cell_type": "code",
      "source": "# Again\ndef activities(number):\n    for i,a in enumerate(number):\n        print(\"Activity #\",i,\"was\",a)\nactivities_together = [\"Bev told about you\",\"Dinner at 'El Patio'\",\"Kelly's\",\"Wamp Wamp Wal-Mart\",\"Lapo, I guess\"]\nactivities(activities_together)",
      "execution_count": 115,
      "outputs": [
        {
          "output_type": "stream",
          "text": "Activity # 0 was Bev told about you\nActivity # 1 was Dinner at 'El Patio'\nActivity # 2 was Kelly's\nActivity # 3 was Wamp Wamp Wal-Mart\nActivity # 4 was Lapo, I guess\n",
          "name": "stdout"
        }
      ]
    },
    {
      "metadata": {
        "trusted": true
      },
      "cell_type": "markdown",
      "source": "## Lab Functions"
    },
    {
      "metadata": {
        "trusted": true
      },
      "cell_type": "code",
      "source": "# First function example: Add 1 to a and store as b\n\ndef add(a):\n    b = a + 1\n    print(a, \"if you add one\", b)\n    return(b)",
      "execution_count": 116,
      "outputs": []
    },
    {
      "metadata": {
        "trusted": true
      },
      "cell_type": "code",
      "source": "add(4)",
      "execution_count": 117,
      "outputs": [
        {
          "output_type": "stream",
          "text": "4 if you add one 5\n",
          "name": "stdout"
        },
        {
          "output_type": "execute_result",
          "execution_count": 117,
          "data": {
            "text/plain": "5"
          },
          "metadata": {}
        }
      ]
    },
    {
      "metadata": {
        "trusted": true
      },
      "cell_type": "code",
      "source": "# Get a help on add function\n\nhelp(add)",
      "execution_count": 118,
      "outputs": [
        {
          "output_type": "stream",
          "text": "Help on function add in module __main__:\n\nadd(a)\n\n",
          "name": "stdout"
        }
      ]
    },
    {
      "metadata": {
        "trusted": true
      },
      "cell_type": "code",
      "source": "# Define a function for multiple two numbers\n\ndef Mult(a, b):\n    c = a * b\n    return(c)",
      "execution_count": 119,
      "outputs": []
    },
    {
      "metadata": {
        "trusted": true
      },
      "cell_type": "code",
      "source": "Mult(2,3)",
      "execution_count": 120,
      "outputs": [
        {
          "output_type": "execute_result",
          "execution_count": 120,
          "data": {
            "text/plain": "6"
          },
          "metadata": {}
        }
      ]
    },
    {
      "metadata": {},
      "cell_type": "markdown",
      "source": "### Variables"
    },
    {
      "metadata": {
        "trusted": true
      },
      "cell_type": "code",
      "source": "# Function Definition\n\ndef square(a):\n    \n    # Local variable b\n    b = 1\n    c = a * a + b\n    print(a, \"if you square + 1\", c) \n    return(c)",
      "execution_count": 121,
      "outputs": []
    },
    {
      "metadata": {
        "trusted": true
      },
      "cell_type": "code",
      "source": "# Initializes Global variable  \n\nx = 3\n# Makes function call and return function a y\ny = square(x)\ny",
      "execution_count": 122,
      "outputs": [
        {
          "output_type": "stream",
          "text": "3 if you square + 1 10\n",
          "name": "stdout"
        },
        {
          "output_type": "execute_result",
          "execution_count": 122,
          "data": {
            "text/plain": "10"
          },
          "metadata": {}
        }
      ]
    },
    {
      "metadata": {
        "trusted": true
      },
      "cell_type": "code",
      "source": "# Define functions, one with return value None and other without return value\n\ndef MJ():\n    print('Michael Jackson')\n    \ndef MJ1():\n    print('Michael Jackson')\n    return(None)",
      "execution_count": 123,
      "outputs": []
    },
    {
      "metadata": {
        "trusted": true
      },
      "cell_type": "code",
      "source": "# See the output\n\nMJ()",
      "execution_count": 124,
      "outputs": [
        {
          "output_type": "stream",
          "text": "Michael Jackson\n",
          "name": "stdout"
        }
      ]
    },
    {
      "metadata": {
        "trusted": true
      },
      "cell_type": "code",
      "source": "# See the output\n\nMJ1()",
      "execution_count": 125,
      "outputs": [
        {
          "output_type": "stream",
          "text": "Michael Jackson\n",
          "name": "stdout"
        }
      ]
    },
    {
      "metadata": {},
      "cell_type": "markdown",
      "source": "## Functions make things simple"
    },
    {
      "metadata": {
        "trusted": true
      },
      "cell_type": "code",
      "source": "# Block 1\n# a and b calculation block1\n\na1 = 4\nb1 = 5\nc1 = a1 + b1 + 2 * a1 * b1 - 1\nif(c1 < 0):\n    c1 = 0 \nelse:\n    c1 = 5\nc1   ",
      "execution_count": 126,
      "outputs": [
        {
          "output_type": "execute_result",
          "execution_count": 126,
          "data": {
            "text/plain": "5"
          },
          "metadata": {}
        }
      ]
    },
    {
      "metadata": {
        "trusted": true
      },
      "cell_type": "code",
      "source": "# Block 2\n# a and b calculation block2\n\na2 = 0\nb2 = 0\nc2 = a2 + b2 + 2 * a2 * b2 - 1\nif(c2 < 0):\n    c2 = 0 \nelse:\n    c2 = 5\nc2   ",
      "execution_count": 127,
      "outputs": [
        {
          "output_type": "execute_result",
          "execution_count": 127,
          "data": {
            "text/plain": "0"
          },
          "metadata": {}
        }
      ]
    },
    {
      "metadata": {
        "trusted": true
      },
      "cell_type": "code",
      "source": "# This 2 blocks can be simplified in a function\n# Make a Function for the calculation above\n\ndef Equation(a,b):\n    c = a + b + 2 * a * b - 1\n    if(c < 0):\n        c = 0 \n    else:\n        c = 5\n    return(c) ",
      "execution_count": 128,
      "outputs": []
    },
    {
      "metadata": {
        "trusted": true
      },
      "cell_type": "code",
      "source": "Equation(4,5)",
      "execution_count": 129,
      "outputs": [
        {
          "output_type": "execute_result",
          "execution_count": 129,
          "data": {
            "text/plain": "5"
          },
          "metadata": {}
        }
      ]
    },
    {
      "metadata": {
        "trusted": true
      },
      "cell_type": "code",
      "source": "Equation(-1,0)",
      "execution_count": 130,
      "outputs": [
        {
          "output_type": "execute_result",
          "execution_count": 130,
          "data": {
            "text/plain": "0"
          },
          "metadata": {}
        }
      ]
    },
    {
      "metadata": {},
      "cell_type": "markdown",
      "source": "## Pre-defined functions"
    },
    {
      "metadata": {
        "trusted": true
      },
      "cell_type": "code",
      "source": "# Build-in function print()\n\nalbum_ratings = [10.0, 8.5, 9.5, 7.0, 7.0, 9.5, 9.0, 9.5] \nprint(album_ratings)",
      "execution_count": 131,
      "outputs": [
        {
          "output_type": "stream",
          "text": "[10.0, 8.5, 9.5, 7.0, 7.0, 9.5, 9.0, 9.5]\n",
          "name": "stdout"
        }
      ]
    },
    {
      "metadata": {
        "trusted": true
      },
      "cell_type": "code",
      "source": "# Use sum() to add every element in a list or tuple together\n\nsum(album_ratings)",
      "execution_count": 132,
      "outputs": [
        {
          "output_type": "execute_result",
          "execution_count": 132,
          "data": {
            "text/plain": "70.0"
          },
          "metadata": {}
        }
      ]
    },
    {
      "metadata": {
        "trusted": true
      },
      "cell_type": "code",
      "source": "# Show the length of the list or tuple\n\nlen(album_ratings)",
      "execution_count": 133,
      "outputs": [
        {
          "output_type": "execute_result",
          "execution_count": 133,
          "data": {
            "text/plain": "8"
          },
          "metadata": {}
        }
      ]
    },
    {
      "metadata": {},
      "cell_type": "markdown",
      "source": "## Using if/else  Statements and Loops in Functions"
    },
    {
      "metadata": {
        "trusted": true
      },
      "cell_type": "code",
      "source": "# Function example\n\ndef type_of_album(artist, album, year_released):\n    \n    print(artist, album, year_released)\n    if year_released > 1980:\n        return \"Modern\"\n    else:\n        return \"Oldie\"\n    \nx = type_of_album(\"Michael Jackson\", \"Thriller\", 1980)\nprint(x)",
      "execution_count": 134,
      "outputs": [
        {
          "output_type": "stream",
          "text": "Michael Jackson Thriller 1980\nOldie\n",
          "name": "stdout"
        }
      ]
    },
    {
      "metadata": {
        "trusted": true
      },
      "cell_type": "code",
      "source": "# Print the list using for loop\n\ndef PrintList(the_list):\n    for element in the_list:\n        print(element)",
      "execution_count": 135,
      "outputs": []
    },
    {
      "metadata": {
        "trusted": true
      },
      "cell_type": "code",
      "source": "# Implement the printlist function\n\nPrintList(['1', 1, 'the man', \"abc\"])",
      "execution_count": 136,
      "outputs": [
        {
          "output_type": "stream",
          "text": "1\n1\nthe man\nabc\n",
          "name": "stdout"
        }
      ]
    },
    {
      "metadata": {},
      "cell_type": "markdown",
      "source": "## Quiz on functions\n- Come up with a function that divides the first input by the second input"
    },
    {
      "metadata": {
        "trusted": true
      },
      "cell_type": "code",
      "source": "def div(a,b):\n    return(a/b)\ndiv(12340,1234)",
      "execution_count": 137,
      "outputs": [
        {
          "output_type": "execute_result",
          "execution_count": 137,
          "data": {
            "text/plain": "10.0"
          },
          "metadata": {}
        }
      ]
    },
    {
      "metadata": {
        "trusted": true
      },
      "cell_type": "code",
      "source": "# Use the con function for the following question\n\ndef con(a, b):\n    return(a + b)",
      "execution_count": 138,
      "outputs": []
    },
    {
      "metadata": {
        "trusted": true
      },
      "cell_type": "code",
      "source": "# Write your code below and press Shift+Enter to execute\nprint(con(\"Michael Jordan is the number \",\"one\"))\nprint(con(9,1))",
      "execution_count": 139,
      "outputs": [
        {
          "output_type": "stream",
          "text": "Michael Jordan is the number one\n10\n",
          "name": "stdout"
        }
      ]
    },
    {
      "metadata": {
        "trusted": true
      },
      "cell_type": "code",
      "source": "# Write your code below and press Shift+Enter to execute\ncon([1,2,3,4,5],['seis',7])",
      "execution_count": 140,
      "outputs": [
        {
          "output_type": "execute_result",
          "execution_count": 140,
          "data": {
            "text/plain": "[1, 2, 3, 4, 5, 'seis', 7]"
          },
          "metadata": {}
        }
      ]
    },
    {
      "metadata": {
        "trusted": true
      },
      "cell_type": "markdown",
      "source": "## Classes and Objects in Python\n### Creating a Class"
    },
    {
      "metadata": {
        "trusted": true
      },
      "cell_type": "code",
      "source": "# Import the Library\n\nimport matplotlib.pyplot as plt\n%matplotlib inline",
      "execution_count": 141,
      "outputs": [
        {
          "output_type": "stream",
          "text": "/home/nbuser/anaconda3_501/lib/python3.6/site-packages/matplotlib/font_manager.py:229: UserWarning: Matplotlib is building the font cache using fc-list. This may take a moment.\n  'Matplotlib is building the font cache using fc-list. '\n",
          "name": "stderr"
        }
      ]
    },
    {
      "metadata": {
        "trusted": true
      },
      "cell_type": "code",
      "source": "# Create a class Circle\n\nclass Circle(object):\n    \n    # Constructor\n    def __init__(self, radius = 3, color = 'purple'):\n        self.radius = radius\n        self.color = color\n        \n    # Method\n    def add_radius(self, r):\n        self.radius = self.radius + r\n        return(self.radius)\n    \n    # Method\n    def drawCircle(self):\n        plt.gca().add_patch(plt.Circle((0,0), radius=self.radius, fc=self.color))\n        plt.axis('scaled')\n        plt.show()",
      "execution_count": 142,
      "outputs": []
    },
    {
      "metadata": {},
      "cell_type": "markdown",
      "source": "## Creating an instance of a class Circle"
    },
    {
      "metadata": {
        "trusted": true
      },
      "cell_type": "code",
      "source": "# Create an object RedCircle\n\nRedCircle = Circle(10,'red')",
      "execution_count": 143,
      "outputs": []
    },
    {
      "metadata": {
        "trusted": true
      },
      "cell_type": "code",
      "source": "# We can use the dir command to get a list of the object's methods. Many of them are default Python methods.\n# Fin out the methods can be used on the object RedCircle\n\ndir(RedCircle)",
      "execution_count": 144,
      "outputs": [
        {
          "output_type": "execute_result",
          "execution_count": 144,
          "data": {
            "text/plain": "['__class__',\n '__delattr__',\n '__dict__',\n '__dir__',\n '__doc__',\n '__eq__',\n '__format__',\n '__ge__',\n '__getattribute__',\n '__gt__',\n '__hash__',\n '__init__',\n '__init_subclass__',\n '__le__',\n '__lt__',\n '__module__',\n '__ne__',\n '__new__',\n '__reduce__',\n '__reduce_ex__',\n '__repr__',\n '__setattr__',\n '__sizeof__',\n '__str__',\n '__subclasshook__',\n '__weakref__',\n 'add_radius',\n 'color',\n 'drawCircle',\n 'radius']"
          },
          "metadata": {}
        }
      ]
    },
    {
      "metadata": {
        "trusted": true
      },
      "cell_type": "code",
      "source": "# Print the object attribute radius\n\nRedCircle.radius",
      "execution_count": 145,
      "outputs": [
        {
          "output_type": "execute_result",
          "execution_count": 145,
          "data": {
            "text/plain": "10"
          },
          "metadata": {}
        }
      ]
    },
    {
      "metadata": {
        "trusted": true
      },
      "cell_type": "code",
      "source": "# Print the object attribute color\nRedCircle.color",
      "execution_count": 146,
      "outputs": [
        {
          "output_type": "execute_result",
          "execution_count": 146,
          "data": {
            "text/plain": "'red'"
          },
          "metadata": {}
        }
      ]
    },
    {
      "metadata": {
        "trusted": true
      },
      "cell_type": "code",
      "source": "# Set the object attribute radius\nRedCircle.radius = 1\nRedCircle.radius",
      "execution_count": 147,
      "outputs": [
        {
          "output_type": "execute_result",
          "execution_count": 147,
          "data": {
            "text/plain": "1"
          },
          "metadata": {}
        }
      ]
    },
    {
      "metadata": {
        "trusted": true
      },
      "cell_type": "code",
      "source": "# We can draw the object by using the method drawCircle()\n# Call the method drawCircle\n\nRedCircle.drawCircle()",
      "execution_count": 148,
      "outputs": [
        {
          "output_type": "display_data",
          "data": {
            "image/png": "[encoded data removed]",
            "text/plain": "<Figure size 432x288 with 1 Axes>"
          },
          "metadata": {
            "needs_background": "light"
          }
        }
      ]
    },
    {
      "metadata": {
        "trusted": true
      },
      "cell_type": "code",
      "source": "# Use method to change the object attribute radius \n\nprint('Radius of object',RedCircle.radius)\nRedCircle.add_radius(2)\nprint('Radius of object of after applying the method add_radius(2)',RedCircle.radius)\nRedCircle.add_radius(5)\nprint('Radius of object of ater appliying the method add_radius(5)',RedCircle.radius)",
      "execution_count": 149,
      "outputs": [
        {
          "output_type": "stream",
          "text": "Radius of object 1\nRadius of object of after applying the method add_radius(2) 3\nRadius of object of ater appliying the method add_radius(5) 8\n",
          "name": "stdout"
        }
      ]
    },
    {
      "metadata": {
        "trusted": true
      },
      "cell_type": "code",
      "source": "# Create a blue circle with a given radius \nBlueCircle = Circle(radius=100)\n\n# Print the object attributes radius\nBlueCircle.radius\n\n# Print the object attributes color\nBlueCircle.color\n\n# Draw the object by using the method drawCircle():\nBlueCircle.drawCircle()",
      "execution_count": 150,
      "outputs": [
        {
          "output_type": "display_data",
          "data": {
            "image/png": "[encoded data removed]",
            "text/plain": "<Figure size 432x288 with 1 Axes>"
          },
          "metadata": {
            "needs_background": "light"
          }
        }
      ]
    },
    {
      "metadata": {},
      "cell_type": "markdown",
      "source": "## The Rectangle Class"
    },
    {
      "metadata": {
        "trusted": true
      },
      "cell_type": "code",
      "source": "# Create a new Rectangle class for creating a rectangle object \n\nclass Rectangle(object):\n    # Constructor\n    def __init__(self,width=2,height=3,color='r'):\n        self.height = height\n        self.width = width\n        self.color = color\n        \n    # Method\n    def drawRectangle(self):\n        plt.gca().add_patch(plt.Rectangle((0,0),self.width,self.height,fc=self.color))\n        plt.axis('scaled')\n        plt.show()",
      "execution_count": 151,
      "outputs": []
    },
    {
      "metadata": {
        "trusted": true
      },
      "cell_type": "code",
      "source": "# Create a New Object\nSkinnyBlueRectangle = Rectangle(2,10,'Blue')\n\n# Print the object attribute height\nSkinnyBlueRectangle.height \n\n# Print the object attribute width\nSkinnyBlueRectangle.width\n\n# Print the object attribute color\nSkinnyBlueRectangle.color\n\n# Use DrawRectangle method\nSkinnyBlueRectangle.drawRectangle()",
      "execution_count": 152,
      "outputs": [
        {
          "output_type": "display_data",
          "data": {
            "image/png": "[encoded data removed]",
            "text/plain": "<Figure size 432x288 with 1 Axes>"
          },
          "metadata": {
            "needs_background": "light"
          }
        }
      ]
    },
    {
      "metadata": {
        "trusted": true
      },
      "cell_type": "code",
      "source": "# Fat yellow rectangle\nFatYellowRectangle = Rectangle(20,5,'yellow')\n\n# Print the object attribute height\nFatYellowRectangle.height \n\n# Print the object attribute width\nFatYellowRectangle.width\n\n# Print the object attribute color\nFatYellowRectangle.color\n\n# Use DrawRectangle method\nFatYellowRectangle.drawRectangle()",
      "execution_count": 153,
      "outputs": [
        {
          "output_type": "display_data",
          "data": {
            "image/png": "[encoded data removed]",
            "text/plain": "<Figure size 432x288 with 1 Axes>"
          },
          "metadata": {
            "needs_background": "light"
          }
        }
      ]
    },
    {
      "metadata": {
        "trusted": true
      },
      "cell_type": "code",
      "source": "x=1\n\nif(x!=1):\n\n    print('Hello')\n\nelse:\n\n    print('Hi')\n\nprint('Mike')",
      "execution_count": 154,
      "outputs": [
        {
          "output_type": "stream",
          "text": "Hi\nMike\n",
          "name": "stdout"
        }
      ]
    },
    {
      "metadata": {
        "trusted": true
      },
      "cell_type": "code",
      "source": "A=['1','2','3']\n\nfor a in A:\n\n    print(2*a)",
      "execution_count": 155,
      "outputs": [
        {
          "output_type": "stream",
          "text": "11\n22\n33\n",
          "name": "stdout"
        }
      ]
    },
    {
      "metadata": {
        "trusted": true
      },
      "cell_type": "code",
      "source": "def Delta(x):\n\n    if x==0:\n        y=1\n    else:\n        y=0\n\n    return(y)",
      "execution_count": 156,
      "outputs": []
    },
    {
      "metadata": {
        "trusted": true
      },
      "cell_type": "code",
      "source": "Delta(1)",
      "execution_count": 157,
      "outputs": [
        {
          "output_type": "execute_result",
          "execution_count": 157,
          "data": {
            "text/plain": "0"
          },
          "metadata": {}
        }
      ]
    },
    {
      "metadata": {
        "trusted": true
      },
      "cell_type": "code",
      "source": "Delta(0)",
      "execution_count": 158,
      "outputs": [
        {
          "output_type": "execute_result",
          "execution_count": 158,
          "data": {
            "text/plain": "1"
          },
          "metadata": {}
        }
      ]
    },
    {
      "metadata": {
        "trusted": true
      },
      "cell_type": "code",
      "source": "B = [1 ,4 ,7 ,8 ,34, 8, 561, 65, 3, 7]",
      "execution_count": 159,
      "outputs": []
    },
    {
      "metadata": {
        "trusted": true
      },
      "cell_type": "code",
      "source": "B",
      "execution_count": 160,
      "outputs": [
        {
          "output_type": "execute_result",
          "execution_count": 160,
          "data": {
            "text/plain": "[1, 4, 7, 8, 34, 8, 561, 65, 3, 7]"
          },
          "metadata": {}
        }
      ]
    },
    {
      "metadata": {
        "trusted": true
      },
      "cell_type": "code",
      "source": "sorted(B)",
      "execution_count": 161,
      "outputs": [
        {
          "output_type": "execute_result",
          "execution_count": 161,
          "data": {
            "text/plain": "[1, 3, 4, 7, 7, 8, 8, 34, 65, 561]"
          },
          "metadata": {}
        }
      ]
    },
    {
      "metadata": {
        "trusted": true
      },
      "cell_type": "code",
      "source": "B",
      "execution_count": 162,
      "outputs": [
        {
          "output_type": "execute_result",
          "execution_count": 162,
          "data": {
            "text/plain": "[1, 4, 7, 8, 34, 8, 561, 65, 3, 7]"
          },
          "metadata": {}
        }
      ]
    },
    {
      "metadata": {
        "trusted": true
      },
      "cell_type": "code",
      "source": "B.sort()\nB",
      "execution_count": 163,
      "outputs": [
        {
          "output_type": "execute_result",
          "execution_count": 163,
          "data": {
            "text/plain": "[1, 3, 4, 7, 7, 8, 8, 34, 65, 561]"
          },
          "metadata": {}
        }
      ]
    },
    {
      "metadata": {
        "trusted": true
      },
      "cell_type": "code",
      "source": "B",
      "execution_count": 164,
      "outputs": [
        {
          "output_type": "execute_result",
          "execution_count": 164,
          "data": {
            "text/plain": "[1, 3, 4, 7, 7, 8, 8, 34, 65, 561]"
          },
          "metadata": {}
        }
      ]
    },
    {
      "metadata": {
        "trusted": true
      },
      "cell_type": "code",
      "source": "sorted(B)",
      "execution_count": 165,
      "outputs": [
        {
          "output_type": "execute_result",
          "execution_count": 165,
          "data": {
            "text/plain": "[1, 3, 4, 7, 7, 8, 8, 34, 65, 561]"
          },
          "metadata": {}
        }
      ]
    },
    {
      "metadata": {
        "trusted": true
      },
      "cell_type": "code",
      "source": "{'a':1,'b':2}.keys()",
      "execution_count": 166,
      "outputs": [
        {
          "output_type": "execute_result",
          "execution_count": 166,
          "data": {
            "text/plain": "dict_keys(['a', 'b'])"
          },
          "metadata": {}
        }
      ]
    },
    {
      "metadata": {
        "trusted": true
      },
      "cell_type": "markdown",
      "source": "# Working with Numpy Arrays "
    },
    {
      "metadata": {
        "trusted": true
      },
      "cell_type": "code",
      "source": "# A list is a container that allows you to store and acces data\na = [\"0\", 1, \"two\", \"3\", 4]",
      "execution_count": 167,
      "outputs": []
    },
    {
      "metadata": {
        "trusted": true
      },
      "cell_type": "code",
      "source": "# Acces each elemet using a square bracket\nprint(a[0])\nprint(a[1])\nprint(a[2])\nprint(a[3])",
      "execution_count": 168,
      "outputs": [
        {
          "output_type": "stream",
          "text": "0\n1\ntwo\n3\n",
          "name": "stdout"
        }
      ]
    },
    {
      "metadata": {
        "trusted": true
      },
      "cell_type": "code",
      "source": "# A \"numpy\" array or \"ndarray\" is similar to a list, it is usually fixed in size and each element is of the same type\n# First you need to import numpy\nimport numpy as np\na = np.array([0, 1, 2, 3, 4])\n# acces each element using square bracket",
      "execution_count": 200,
      "outputs": []
    },
    {
      "metadata": {
        "trusted": true
      },
      "cell_type": "code",
      "source": "type(a)",
      "execution_count": 201,
      "outputs": [
        {
          "output_type": "execute_result",
          "execution_count": 201,
          "data": {
            "text/plain": "numpy.ndarray"
          },
          "metadata": {}
        }
      ]
    },
    {
      "metadata": {
        "trusted": true
      },
      "cell_type": "code",
      "source": "a.dtype",
      "execution_count": 202,
      "outputs": [
        {
          "output_type": "execute_result",
          "execution_count": 202,
          "data": {
            "text/plain": "dtype('int64')"
          },
          "metadata": {}
        }
      ]
    },
    {
      "metadata": {
        "trusted": true
      },
      "cell_type": "code",
      "source": "# Review attributes\nprint(a.size)\nprint(a.ndim)\nprint(a.shape)\n# Check more attributes at numpy.org",
      "execution_count": 203,
      "outputs": [
        {
          "output_type": "stream",
          "text": "5\n1\n(5,)\n",
          "name": "stdout"
        }
      ]
    },
    {
      "metadata": {
        "trusted": true
      },
      "cell_type": "code",
      "source": "b = np.array([3.1, 11.02, 6.2, 213.2, 5.2])",
      "execution_count": 204,
      "outputs": []
    },
    {
      "metadata": {
        "trusted": true
      },
      "cell_type": "code",
      "source": "type(b)",
      "execution_count": 205,
      "outputs": [
        {
          "output_type": "execute_result",
          "execution_count": 205,
          "data": {
            "text/plain": "numpy.ndarray"
          },
          "metadata": {}
        }
      ]
    },
    {
      "metadata": {
        "trusted": true
      },
      "cell_type": "code",
      "source": "b.dtype",
      "execution_count": 206,
      "outputs": [
        {
          "output_type": "execute_result",
          "execution_count": 206,
          "data": {
            "text/plain": "dtype('float64')"
          },
          "metadata": {}
        }
      ]
    },
    {
      "metadata": {},
      "cell_type": "markdown",
      "source": "## Indexing and Slicing"
    },
    {
      "metadata": {
        "trusted": true
      },
      "cell_type": "code",
      "source": "# We can change the value of the elements\nc = np.array([20, 1, 2, 3, 4])\nc",
      "execution_count": 176,
      "outputs": [
        {
          "output_type": "execute_result",
          "execution_count": 176,
          "data": {
            "text/plain": "array([20,  1,  2,  3,  4])"
          },
          "metadata": {}
        }
      ]
    },
    {
      "metadata": {
        "trusted": true
      },
      "cell_type": "code",
      "source": "c[0]=100\nc",
      "execution_count": 177,
      "outputs": [
        {
          "output_type": "execute_result",
          "execution_count": 177,
          "data": {
            "text/plain": "array([100,   1,   2,   3,   4])"
          },
          "metadata": {}
        }
      ]
    },
    {
      "metadata": {
        "trusted": true
      },
      "cell_type": "code",
      "source": "c[4]=0\nc",
      "execution_count": 178,
      "outputs": [
        {
          "output_type": "execute_result",
          "execution_count": 178,
          "data": {
            "text/plain": "array([100,   1,   2,   3,   0])"
          },
          "metadata": {}
        }
      ]
    },
    {
      "metadata": {
        "trusted": true
      },
      "cell_type": "code",
      "source": "d = c[1:4]\nd",
      "execution_count": 179,
      "outputs": [
        {
          "output_type": "execute_result",
          "execution_count": 179,
          "data": {
            "text/plain": "array([1, 2, 3])"
          },
          "metadata": {}
        }
      ]
    },
    {
      "metadata": {},
      "cell_type": "markdown",
      "source": "### Plotting Mathematical Functions"
    },
    {
      "metadata": {
        "trusted": true
      },
      "cell_type": "code",
      "source": "# More on numpy at numpy.org\nx = np.linspace(0, 2*np.pi, 100)\ny = np.sin(x)\n\nimport matplotlib.pyplot as plt\n%matplotlib inline\nplt.plot(x,y);",
      "execution_count": 180,
      "outputs": [
        {
          "output_type": "display_data",
          "data": {
            "image/png": "[encoded data removed]",
            "text/plain": "<Figure size 432x288 with 1 Axes>"
          },
          "metadata": {
            "needs_background": "light"
          }
        }
      ]
    },
    {
      "metadata": {
        "trusted": true
      },
      "cell_type": "code",
      "source": "np.array([1,-1])*np.array([1,1])",
      "execution_count": 181,
      "outputs": [
        {
          "output_type": "execute_result",
          "execution_count": 181,
          "data": {
            "text/plain": "array([ 1, -1])"
          },
          "metadata": {}
        }
      ]
    },
    {
      "metadata": {
        "trusted": true
      },
      "cell_type": "markdown",
      "source": "# Numpy 2D arrays\n## Objectives \n- The basic and creation in 2D\n- Indexing and Slicing in 2D\n- Basic operations in 2D"
    },
    {
      "metadata": {
        "trusted": true
      },
      "cell_type": "code",
      "source": "# Three nested lists\na = ([11, 12, 13], [21, 22, 23], [31, 32, 33])\nA = np.array(a);\nprint(A)\n# NUmber of nested lists\nprint(\"Array dimension:\",A.ndim)\nprint(\"Array shape:\",A.shape)\nprint(\"Array size:\",A.size)",
      "execution_count": 189,
      "outputs": [
        {
          "output_type": "stream",
          "text": "[[11 12 13]\n [21 22 23]\n [31 32 33]]\nArray dimension: 2\nArray shape: (3, 3)\nArray size: 9\n",
          "name": "stdout"
        }
      ]
    },
    {
      "metadata": {
        "trusted": true
      },
      "cell_type": "code",
      "source": "# Use brackets to access elements\n# First index correspond to row, second index correspond to column\nprint(\"A[0][0]:\",A[0][0])\nprint(\"A[2][2]:\",A[2][2])\n# The second index access the first two columns\nprint(\"A[0][0:2]:\",A[0][0:3])\n# \nprint(\"A[0:2,2]:\",A[0:2,2])",
      "execution_count": 197,
      "outputs": [
        {
          "output_type": "stream",
          "text": "A[0][0]: 11\nA[2][2]: 33\nA[0][0:2]: [11 12 13]\nA[0:2,2]: [13 23]\n",
          "name": "stdout"
        }
      ]
    },
    {
      "metadata": {},
      "cell_type": "markdown",
      "source": "### Adding Arrays"
    },
    {
      "metadata": {
        "trusted": true
      },
      "cell_type": "code",
      "source": "X = np.array([[1, 0], [0, 1]])\nY = np.array([[2, 1], [1, 2]])\nZ = X + Y\nZ\nprint(\"X:\",X)\nprint(\"Y:\",Y)\nprint(\"Z:\",Z)",
      "execution_count": 207,
      "outputs": [
        {
          "output_type": "stream",
          "text": "X: [[1 0]\n [0 1]]\nY: [[2 1]\n [1 2]]\nZ: [[3 1]\n [1 3]]\n",
          "name": "stdout"
        }
      ]
    },
    {
      "metadata": {
        "trusted": true
      },
      "cell_type": "code",
      "source": "# Check out numpy.org\nA = np.array([[0, 1, 1],[1, 0, 1]])\nB = np.array([[1, 1], [1, 1], [-1, 1]])\nC = np.dot(A, B);\nC",
      "execution_count": 211,
      "outputs": [
        {
          "output_type": "execute_result",
          "execution_count": 211,
          "data": {
            "text/plain": "array([[0, 2],\n       [0, 2]])"
          },
          "metadata": {}
        }
      ]
    },
    {
      "metadata": {
        "trusted": true
      },
      "cell_type": "code",
      "source": "",
      "execution_count": null,
      "outputs": []
    }
  ],
  "metadata": {
    "kernelspec": {
      "name": "python36",
      "display_name": "Python 3.6",
      "language": "python"
    },
    "language_info": {
      "mimetype": "text/x-python",
      "nbconvert_exporter": "python",
      "name": "python",
      "pygments_lexer": "ipython3",
      "version": "3.6.6",
      "file_extension": ".py",
      "codemirror_mode": {
        "version": 3,
        "name": "ipython"
      }
    }
  },
  "nbformat": 4,
  "nbformat_minor": 2
}