{
  "cells": [
    {
      "metadata": {
        "collapsed": true
      },
      "cell_type": "markdown",
      "source": "# Loop Control Statements\n## Introduction\n### Learning Objectives\n- Execute a group of statements over and over as long as certain criterion holds.\n- Loop: group of criterion being executed repeatedly\n- Two loop statements in Python: while and for \n- Two major kind of programming loops: counting loops and event-controlled loops\n\n### Counting Loops (for Loop)\n- The computer knows at the beginning how many times it needs to execute the loop\n\n### Event Controlled Loop (while Loop)\n- The computer stops the loop execution when a condition is no longer true"
    },
    {
      "metadata": {
        "trusted": true
      },
      "cell_type": "code",
      "source": "# First Example\ntotal = 0\ni = 1\nwhile i <=10:\n    total += 1\n    i += 1\n    print(total)",
      "execution_count": null,
      "outputs": []
    },
    {
      "metadata": {
        "trusted": true
      },
      "cell_type": "code",
      "source": "a = 4\na += 5\nb = 4\nb = b + 5\nprint(\"a =\",a)\nprint(\"b =\",b)",
      "execution_count": null,
      "outputs": []
    },
    {
      "metadata": {},
      "cell_type": "markdown",
      "source": "### Common Error"
    },
    {
      "metadata": {
        "trusted": true
      },
      "cell_type": "code",
      "source": "x = 0\nwhile x < 3:\n    y += 1 # wrong variable update\n\nproduct = 1\ncount = 1\nwhile count <= 10:\n    product *= count\n    # forgot to update count\n    \nx = 0\nwhile x < 5:\n    print(x)\nx += 1 # Update statement is intended one level too little, so it's outside the loop body\n\nx = 0\nwhile x != 5:\n    print(x)\nx += 2 # x wil never equal five because we are counting in even numbers!",
      "execution_count": null,
      "outputs": []
    },
    {
      "metadata": {
        "trusted": true
      },
      "cell_type": "code",
      "source": "# Second example\n# number is a list of numbers -- we don't know what the numbers are!\ntotal = 0\ni = 0\n\nwhile i < len(numbers) and total < 100:\n    total += numbers[i]\n    i += 1",
      "execution_count": null,
      "outputs": []
    },
    {
      "metadata": {},
      "cell_type": "markdown",
      "source": "### Exercise one"
    },
    {
      "metadata": {
        "trusted": true
      },
      "cell_type": "code",
      "source": "total = 0\ni = 1\n\n\nwhile total <= 200:\n    total += i\n    i *= i\n    i += 1\n    print(total)\n",
      "execution_count": null,
      "outputs": []
    },
    {
      "metadata": {},
      "cell_type": "markdown",
      "source": "### Youtube Examples"
    },
    {
      "metadata": {
        "trusted": true
      },
      "cell_type": "code",
      "source": "# Clever Programmer\ncondition = 1\nwhile condition < 10:\n    print(condition)\n    condition += 1",
      "execution_count": null,
      "outputs": []
    },
    {
      "metadata": {
        "trusted": true
      },
      "cell_type": "code",
      "source": "# While Loops!\n# While (CONDITION) ---> True\n# Then this:\n# Condition Examples\n# 5 < 6 ---> True\n# 5 > 6 ---> False\n \ncount = 1\nwhile count <= 10:\n    print(count)\n    count += 1\n",
      "execution_count": null,
      "outputs": []
    },
    {
      "metadata": {
        "trusted": true
      },
      "cell_type": "code",
      "source": "count = 10\nwhile count >= 0:\n    if count == 0:\n        print('Blast off!')\n    else:\n        print(count)\n    count -= 1",
      "execution_count": null,
      "outputs": []
    },
    {
      "metadata": {
        "trusted": true
      },
      "cell_type": "markdown",
      "source": "### Sum two numbers"
    },
    {
      "metadata": {
        "trusted": true
      },
      "cell_type": "code",
      "source": "# Use def function\ndef sum_two(num_1, num_2):\n    return num_1 + num_2\n\nprint(sum_two(1,2))\nprint(sum_two(5,8))\nprint(sum_two(3,20))",
      "execution_count": null,
      "outputs": []
    },
    {
      "metadata": {
        "trusted": true
      },
      "cell_type": "code",
      "source": "# Square a number\ndef square_num(number):\n    return number ** 2\nprint(square_num(4))\n\ndef test_square_num():\n    assert square_num(2) == 4\n    assert square_num(3) == 9\n    assert square_num(4) == 16\n    assert square_num(10) == 100\n    print(\"Your code is correct!\")\n ",
      "execution_count": null,
      "outputs": []
    },
    {
      "metadata": {
        "trusted": true
      },
      "cell_type": "code",
      "source": "# EDX Beginner\ndef say_this(phrase):\n    print(phrase)\nsay_this(\"Hello!\")\n",
      "execution_count": 2,
      "outputs": [
        {
          "output_type": "stream",
          "text": "Hello!\n",
          "name": "stdout"
        }
      ]
    },
    {
      "metadata": {
        "trusted": true
      },
      "cell_type": "code",
      "source": "def yel_this(phrase = 'good night'):\n    print(phrase.upper()+'!')\nyel_this('good morning')\n\nyel_this()",
      "execution_count": 7,
      "outputs": [
        {
          "output_type": "stream",
          "text": "GOOD MORNING!\nGOOD NIGHT!\n",
          "name": "stdout"
        }
      ]
    },
    {
      "metadata": {},
      "cell_type": "markdown",
      "source": "### Function Return Value"
    },
    {
      "metadata": {
        "trusted": true
      },
      "cell_type": "code",
      "source": "def msg_double(phrase):\n    double = phrase + \" \" + phrase\n    return double\n\nmsg_2x = msg_double(\"let's go!\")\nprint(msg_2x.lower())",
      "execution_count": 17,
      "outputs": [
        {
          "output_type": "stream",
          "text": "let's go! let's go!\n",
          "name": "stdout"
        }
      ]
    },
    {
      "metadata": {
        "trusted": true
      },
      "cell_type": "code",
      "source": "def half_value(value):\n    return value/2\n\nprint(half_value(20))",
      "execution_count": 19,
      "outputs": [
        {
          "output_type": "stream",
          "text": "10.0\n",
          "name": "stdout"
        }
      ]
    },
    {
      "metadata": {},
      "cell_type": "markdown",
      "source": "### Function with multiple parameters"
    },
    {
      "metadata": {
        "trusted": true
      },
      "cell_type": "code",
      "source": "def make_schedule(period1, period2):\n    schedule = (\"[1st] \" + period1.title() + \"\\n\" + \"[2nd] \" + period2.title())\n    return schedule\n\nstudent_schedule = make_schedule(\"math\", \"english\")\nprint(\"SCHEDULE:\\n\" + student_schedule)",
      "execution_count": 29,
      "outputs": [
        {
          "output_type": "stream",
          "text": "SCHEDULE:\n[1st] Math\n[2nd] English\n",
          "name": "stdout"
        }
      ]
    },
    {
      "metadata": {
        "trusted": true
      },
      "cell_type": "code",
      "source": "def brush_teeth(step1, step2, step3, step4):\n    procedure = (\"[1st]: \" + step1 + \"\\n\" + \"[2nd]: \" + step2 + \"\\n\" + \"[3rd]: \" + step3 + \"\\n\" + \"[4th] :\" + step4)\n    return procedure\nhow_to = brush_teeth(\"Wet\", \"Powder\", \"Brush\", \"Rinse\")\nprint(\"How to brush your teeth:\\n\" + how_to)",
      "execution_count": 32,
      "outputs": [
        {
          "output_type": "stream",
          "text": "How to brush your teeth:\n[1st]: Wet\n[2nd]: Powder\n[3rd]: Brush\n[4th] :Rinse\n",
          "name": "stdout"
        }
      ]
    },
    {
      "metadata": {},
      "cell_type": "markdown",
      "source": "# Conditionals\n- if\n- else\n- pass"
    },
    {
      "metadata": {
        "trusted": true
      },
      "cell_type": "code",
      "source": "if True:\n    print(\"This prints if statement after 'if' is True\")\nelse:\n    print(\"This prints if statement is not True\")",
      "execution_count": 33,
      "outputs": [
        {
          "output_type": "stream",
          "text": "This prints if statement after 'if' is True\n",
          "name": "stdout"
        }
      ]
    },
    {
      "metadata": {
        "trusted": true
      },
      "cell_type": "code",
      "source": "someone_i_know = False\nif someone_i_know:\n    print(\"How have you been?\")\nelse:\n    print(\"Nice to meet you\")",
      "execution_count": 35,
      "outputs": [
        {
          "output_type": "stream",
          "text": "Nice to meet you\n",
          "name": "stdout"
        }
      ]
    },
    {
      "metadata": {
        "trusted": true
      },
      "cell_type": "markdown",
      "source": "# EDX\n## Module Four\n### Nesting and Loops"
    },
    {
      "metadata": {
        "trusted": true
      },
      "cell_type": "code",
      "source": "# Example 1\nnumber_guess = \"0\"\nsecret_number = \"5\"\n\nwhile True:\n    number_guess = input('Guess the number 1 to 5: ')\n    if number_guess == secret_number:\n        print(\"Yes\", number_guess, \"is correct!\\n\")\n        break\n    else:\n        print(number_guess, 'is incorrect\\n')",
      "execution_count": 36,
      "outputs": [
        {
          "output_type": "stream",
          "name": "stdout",
          "text": "Guess the number 1 to 5: 3\n3 is incorrect\n\nGuess the number 1 to 5: 7\n7 is incorrect\n\nGuess the number 1 to 5: 2\n2 is incorrect\n\nGuess the number 1 to 5: 1\n1 is incorrect\n\nGuess the number 1 to 5: 0\n0 is incorrect\n\nGuess the number 1 to 5: 1\n1 is incorrect\n\nGuess the number 1 to 5: 2\n2 is incorrect\n\nGuess the number 1 to 5: 3\n3 is incorrect\n\nGuess the number 1 to 5: 4\n4 is incorrect\n\nGuess the number 1 to 5: 5\nYes 5 is correct!\n\n"
        }
      ]
    },
    {
      "metadata": {
        "trusted": true
      },
      "cell_type": "code",
      "source": "# Example 1, again\nletter_guess = \"\"\nsecret_letter = \"K\"\n\nwhile True:\n    letter_gues = input(\"Guess a letter from A to Z: \")\n    if letter_guess.upper() == secret_letter:\n        print(\"Yes,\", letter_guess, 'is correct!\\n')\n        break\n    else:\n        print(letter_guess + 'Is incorrect.\\tTry Again!\\n')\n",
      "execution_count": 46,
      "outputs": [
        {
          "output_type": "stream",
          "name": "stdout",
          "text": "Guess a letter from A to Z: k\nIs incorrect.\tTry Again!\n\nGuess a letter from A to Z: K\nIs incorrect.\tTry Again!\n\nGuess a letter from A to Z: L\nIs incorrect.\tTry Again!\n\n"
        },
        {
          "output_type": "stream",
          "text": "ERROR:root:Internal Python error in the inspect module.\nBelow is the traceback from this internal error.\n\n",
          "name": "stderr"
        },
        {
          "output_type": "stream",
          "text": "Traceback (most recent call last):\n  File \"/home/nbuser/anaconda3_501/lib/python3.6/site-packages/ipykernel/kernelbase.py\", line 884, in _input_request\n    ident, reply = self.session.recv(self.stdin_socket, 0)\n  File \"/home/nbuser/anaconda3_501/lib/python3.6/site-packages/jupyter_client/session.py\", line 803, in recv\n    msg_list = socket.recv_multipart(mode, copy=copy)\n  File \"/home/nbuser/anaconda3_501/lib/python3.6/site-packages/zmq/sugar/socket.py\", line 467, in recv_multipart\n    parts = [self.recv(flags, copy=copy, track=track)]\n  File \"zmq/backend/cython/socket.pyx\", line 788, in zmq.backend.cython.socket.Socket.recv\n  File \"zmq/backend/cython/socket.pyx\", line 824, in zmq.backend.cython.socket.Socket.recv\n  File \"zmq/backend/cython/socket.pyx\", line 186, in zmq.backend.cython.socket._recv_copy\n  File \"zmq/backend/cython/checkrc.pxd\", line 12, in zmq.backend.cython.checkrc._check_rc\nKeyboardInterrupt\n\nDuring handling of the above exception, another exception occurred:\n\nTraceback (most recent call last):\n  File \"/home/nbuser/anaconda3_501/lib/python3.6/site-packages/IPython/core/interactiveshell.py\", line 3267, in run_code\n    exec(code_obj, self.user_global_ns, self.user_ns)\n  File \"<ipython-input-46-cce90d40433f>\", line 6, in <module>\n    letter_gues = input(\"Guess a letter from A to Z: \")\n  File \"/home/nbuser/anaconda3_501/lib/python3.6/site-packages/ipykernel/kernelbase.py\", line 859, in raw_input\n    password=False,\n  File \"/home/nbuser/anaconda3_501/lib/python3.6/site-packages/ipykernel/kernelbase.py\", line 889, in _input_request\n    raise KeyboardInterrupt\nKeyboardInterrupt\n\nDuring handling of the above exception, another exception occurred:\n\nTraceback (most recent call last):\n  File \"/home/nbuser/anaconda3_501/lib/python3.6/site-packages/IPython/core/interactiveshell.py\", line 2018, in showtraceback\n    stb = value._render_traceback_()\nAttributeError: 'KeyboardInterrupt' object has no attribute '_render_traceback_'\n\nDuring handling of the above exception, another exception occurred:\n\nTraceback (most recent call last):\n  File \"/home/nbuser/anaconda3_501/lib/python3.6/inspect.py\", line 1445, in getframeinfo\n    lines, lnum = findsource(frame)\n  File \"/home/nbuser/anaconda3_501/lib/python3.6/site-packages/IPython/core/ultratb.py\", line 167, in findsource\n    file = getsourcefile(object) or getfile(object)\n  File \"/home/nbuser/anaconda3_501/lib/python3.6/inspect.py\", line 696, in getsourcefile\n    if getattr(getmodule(object, filename), '__loader__', None) is not None:\n  File \"/home/nbuser/anaconda3_501/lib/python3.6/inspect.py\", line 735, in getmodule\n    if f == _filesbymodname.get(modname, None):\nKeyboardInterrupt\n\nDuring handling of the above exception, another exception occurred:\n\nTraceback (most recent call last):\n  File \"/home/nbuser/anaconda3_501/lib/python3.6/site-packages/IPython/core/ultratb.py\", line 1095, in get_records\n    return _fixed_getinnerframes(etb, number_of_lines_of_context, tb_offset)\n  File \"/home/nbuser/anaconda3_501/lib/python3.6/site-packages/IPython/core/ultratb.py\", line 313, in wrapped\n    return f(*args, **kwargs)\n  File \"/home/nbuser/anaconda3_501/lib/python3.6/site-packages/IPython/core/ultratb.py\", line 347, in _fixed_getinnerframes\n    records = fix_frame_records_filenames(inspect.getinnerframes(etb, context))\n  File \"/home/nbuser/anaconda3_501/lib/python3.6/inspect.py\", line 1483, in getinnerframes\n    frameinfo = (tb.tb_frame,) + getframeinfo(tb, context)\n  File \"/home/nbuser/anaconda3_501/lib/python3.6/inspect.py\", line 1445, in getframeinfo\n    lines, lnum = findsource(frame)\nKeyboardInterrupt\n",
          "name": "stdout"
        },
        {
          "output_type": "error",
          "ename": "KeyboardInterrupt",
          "evalue": "",
          "traceback": [
            "\u001b[0;31m---------------------------------------------------------------------------\u001b[0m",
            "\nDuring handling of the above exception, another exception occurred:\n",
            "\u001b[0;31mKeyboardInterrupt\u001b[0m                         Traceback (most recent call last)",
            "\u001b[0;32m<ipython-input-46-cce90d40433f>\u001b[0m in \u001b[0;36m<module>\u001b[0;34m\u001b[0m\n\u001b[1;32m      4\u001b[0m \u001b[0;34m\u001b[0m\u001b[0m\n\u001b[1;32m      5\u001b[0m \u001b[0;32mwhile\u001b[0m \u001b[0;32mTrue\u001b[0m\u001b[0;34m:\u001b[0m\u001b[0;34m\u001b[0m\u001b[0m\n\u001b[0;32m----> 6\u001b[0;31m     \u001b[0mletter_gues\u001b[0m \u001b[0;34m=\u001b[0m \u001b[0minput\u001b[0m\u001b[0;34m(\u001b[0m\u001b[0;34m\"Guess a letter from A to Z: \"\u001b[0m\u001b[0;34m)\u001b[0m\u001b[0;34m\u001b[0m\u001b[0m\n\u001b[0m\u001b[1;32m      7\u001b[0m     \u001b[0;32mif\u001b[0m \u001b[0mletter_guess\u001b[0m\u001b[0;34m.\u001b[0m\u001b[0mupper\u001b[0m\u001b[0;34m(\u001b[0m\u001b[0;34m)\u001b[0m \u001b[0;34m==\u001b[0m \u001b[0msecret_letter\u001b[0m\u001b[0;34m:\u001b[0m\u001b[0;34m\u001b[0m\u001b[0m\n\u001b[1;32m      8\u001b[0m         \u001b[0mprint\u001b[0m\u001b[0;34m(\u001b[0m\u001b[0;34m\"Yes,\"\u001b[0m\u001b[0;34m,\u001b[0m \u001b[0mletter_guess\u001b[0m\u001b[0;34m,\u001b[0m \u001b[0;34m'is correct!\\n'\u001b[0m\u001b[0;34m)\u001b[0m\u001b[0;34m\u001b[0m\u001b[0m\n",
            "\u001b[0;32m~/anaconda3_501/lib/python3.6/site-packages/ipykernel/kernelbase.py\u001b[0m in \u001b[0;36mraw_input\u001b[0;34m(self, prompt)\u001b[0m\n\u001b[1;32m    857\u001b[0m             \u001b[0mself\u001b[0m\u001b[0;34m.\u001b[0m\u001b[0m_parent_ident\u001b[0m\u001b[0;34m,\u001b[0m\u001b[0;34m\u001b[0m\u001b[0m\n\u001b[1;32m    858\u001b[0m             \u001b[0mself\u001b[0m\u001b[0;34m.\u001b[0m\u001b[0m_parent_header\u001b[0m\u001b[0;34m,\u001b[0m\u001b[0;34m\u001b[0m\u001b[0m\n\u001b[0;32m--> 859\u001b[0;31m             \u001b[0mpassword\u001b[0m\u001b[0;34m=\u001b[0m\u001b[0;32mFalse\u001b[0m\u001b[0;34m,\u001b[0m\u001b[0;34m\u001b[0m\u001b[0m\n\u001b[0m\u001b[1;32m    860\u001b[0m         )\n\u001b[1;32m    861\u001b[0m \u001b[0;34m\u001b[0m\u001b[0m\n",
            "\u001b[0;32m~/anaconda3_501/lib/python3.6/site-packages/ipykernel/kernelbase.py\u001b[0m in \u001b[0;36m_input_request\u001b[0;34m(self, prompt, ident, parent, password)\u001b[0m\n\u001b[1;32m    887\u001b[0m             \u001b[0;32mexcept\u001b[0m \u001b[0mKeyboardInterrupt\u001b[0m\u001b[0;34m:\u001b[0m\u001b[0;34m\u001b[0m\u001b[0m\n\u001b[1;32m    888\u001b[0m                 \u001b[0;31m# re-raise KeyboardInterrupt, to truncate traceback\u001b[0m\u001b[0;34m\u001b[0m\u001b[0;34m\u001b[0m\u001b[0m\n\u001b[0;32m--> 889\u001b[0;31m                 \u001b[0;32mraise\u001b[0m \u001b[0mKeyboardInterrupt\u001b[0m\u001b[0;34m\u001b[0m\u001b[0m\n\u001b[0m\u001b[1;32m    890\u001b[0m             \u001b[0;32melse\u001b[0m\u001b[0;34m:\u001b[0m\u001b[0;34m\u001b[0m\u001b[0m\n\u001b[1;32m    891\u001b[0m                 \u001b[0;32mbreak\u001b[0m\u001b[0;34m\u001b[0m\u001b[0m\n",
            "\u001b[0;31mKeyboardInterrupt\u001b[0m: "
          ]
        }
      ]
    },
    {
      "metadata": {
        "trusted": true
      },
      "cell_type": "code",
      "source": "# Example 2\nwhile True:\n    f_name = input('Enter a single word first name: ')\n    if f_name.isalpha():\n        break\n    else:\n        print(f_name, 'is not a single word\\n')\nprint(\"Welcome\", f_name + \"!\")",
      "execution_count": 38,
      "outputs": [
        {
          "output_type": "stream",
          "name": "stdout",
          "text": "Enter a single word first name: Consome Panchi\nConsome Panchi is not a single word\n\nEnter a single word first name: Daniel RUiz\nDaniel RUiz is not a single word\n\nEnter a single word first name: Hansaem\nWelcome Hansaem!\n"
        }
      ]
    },
    {
      "metadata": {
        "trusted": true
      },
      "cell_type": "code",
      "source": "# Task 1\nfamiliar_name = \"\"\n\nwhile True:\n    familiar_name = input(\"Type a common friend/family name: \")\n    if familiar_name.isalpha():\n        break\n    else:\n        print(familiar_name, 'Not')\nprint('Hola',familiar_name + \"!\")",
      "execution_count": 51,
      "outputs": [
        {
          "output_type": "stream",
          "name": "stdout",
          "text": "Type a common friend/family name: Hansaem\nHola Hansaem!\n"
        }
      ]
    },
    {
      "metadata": {
        "trusted": true
      },
      "cell_type": "code",
      "source": "# Example 1.1        \nguess_letter = \"\"\nlove_letter = \"H\"\n\nwhile True:\n    guess_letter = input('Guess the letter of the name of the girl I love: ')\n    if guess_letter == love_letter:\n        print(\"Yes!\", guess_letter, \"is in my girl's name!\\n\")\n        break\n    else:\n        print(guess_letter, 'is incorrect\\n')\n\n",
      "execution_count": 63,
      "outputs": [
        {
          "output_type": "stream",
          "name": "stdout",
          "text": "Guess the letter of the name of the girl I love: A\nA is incorrect\n\nGuess the letter of the name of the girl I love: B\nB is incorrect\n\nGuess the letter of the name of the girl I love: H\nYes! H is in my girl's name!\n\n"
        }
      ]
    },
    {
      "metadata": {
        "trusted": true
      },
      "cell_type": "code",
      "source": "# Example 1.2\nwhile True:\n    weather = input(\"Enter weather (sunny, rainy, snowy or quit): \\n\")\n    if weather.lower() == \"sunny\":\n        print(weather+\":\",\"Wear a t-shirt and sunscreen\")\n        break\n    elif weather.lower() == \"rainy\":\n        print(weather+\":\",\"Bring an umbrella and boots\")\n        break\n    elif weather.lower() == \"snowy\":\n        print(weather+\":\",\"Wear a warm coat and hat\")\n        break\n    elif weather.lower().startswith(\"q\"):\n        print(weather+\":\",'\"quit\" detected, exiting')\n    else:\n        print(\"Sorry, not sure what to suggest for\",weather+'\\n')\n    ",
      "execution_count": 68,
      "outputs": [
        {
          "output_type": "stream",
          "name": "stdout",
          "text": "Enter weather (sunny, rainy, snowy or quit): \nHot\nSorry, not sure what to suggest for Hot\n\nEnter weather (sunny, rainy, snowy or quit): \nDark\nSorry, not sure what to suggest for Dark\n\nEnter weather (sunny, rainy, snowy or quit): \nMagic\nSorry, not sure what to suggest for Magic\n\nEnter weather (sunny, rainy, snowy or quit): \nQuit\nQuit: \"quit\" detected, exiting\nEnter weather (sunny, rainy, snowy or quit): \nRain\nSorry, not sure what to suggest for Rain\n\nEnter weather (sunny, rainy, snowy or quit): \nSnowt\nSorry, not sure what to suggest for Snowt\n\nEnter weather (sunny, rainy, snowy or quit): \nSnowy\nSnowy: Wear a warm coat and hat\n"
        }
      ]
    },
    {
      "metadata": {
        "trusted": true
      },
      "cell_type": "code",
      "source": "# Task 1.1\nfamiliar_name = \"\"\nwhile True:\n    familiar_name = input(\"Enter a popular mexican last name: \\n\")\n    if familiar_name.endswith(\"z\"):\n        print(familiar_name,\"is a typical mexican last name.\\n\")\n        break\n    else:\n        print(familiar_name, \"is not a typical mexican last name.\\n\")",
      "execution_count": 77,
      "outputs": [
        {
          "output_type": "stream",
          "name": "stdout",
          "text": "Enter a popular mexican last name: \nRuiz\nRuiz is a typical mexican last name.\n\n"
        }
      ]
    },
    {
      "metadata": {},
      "cell_type": "markdown",
      "source": "## Incrementin Variable\n### votes = votes + 1\n### votes += 1"
    },
    {
      "metadata": {
        "trusted": true
      },
      "cell_type": "code",
      "source": "votes = 3\nprint(votes)",
      "execution_count": 78,
      "outputs": [
        {
          "output_type": "stream",
          "text": "3\n",
          "name": "stdout"
        }
      ]
    },
    {
      "metadata": {
        "trusted": true
      },
      "cell_type": "code",
      "source": "votes = votes + 1\nprint(votes)\n\nvotes += 3\nprint(votes)",
      "execution_count": 79,
      "outputs": [
        {
          "output_type": "stream",
          "text": "4\n7\n",
          "name": "stdout"
        }
      ]
    },
    {
      "metadata": {},
      "cell_type": "markdown",
      "source": "## Decrementing"
    },
    {
      "metadata": {
        "trusted": true
      },
      "cell_type": "code",
      "source": "print(votes)\n\nvotes = votes - 1\nprint(votes)\n\nvotes -= 2\nprint(votes)",
      "execution_count": 80,
      "outputs": [
        {
          "output_type": "stream",
          "text": "7\n6\n4\n",
          "name": "stdout"
        }
      ]
    },
    {
      "metadata": {
        "trusted": true
      },
      "cell_type": "code",
      "source": "# Example\nseat_count = 0\nwhile True:\n    print(\"seat count:\",seat_count)\n    seat_count = seat_count + 1\n\n    if seat_count > 4:\n        break",
      "execution_count": 81,
      "outputs": [
        {
          "output_type": "stream",
          "text": "seat count: 0\nseat count: 1\nseat count: 2\nseat count: 3\nseat count: 4\n",
          "name": "stdout"
        }
      ]
    },
    {
      "metadata": {
        "trusted": true
      },
      "cell_type": "code",
      "source": "# Example 1.1\nseat_count = 0\nwhile True:\n    print(\"Seat count:\", seat_count)\n    seat_count += 1\n    if seat_count > 5:\n        break",
      "execution_count": 82,
      "outputs": [
        {
          "output_type": "stream",
          "text": "Seat count: 0\nSeat count: 1\nSeat count: 2\nSeat count: 3\nSeat count: 4\nSeat count: 5\n",
          "name": "stdout"
        }
      ]
    },
    {
      "metadata": {
        "trusted": true,
        "scrolled": true
      },
      "cell_type": "code",
      "source": "# Example 2\nseat_count = 5\nwhile True:\n    print(\"Remaining seat count:\",seat_count)\n    seat_count -= 1\n    if seat_count <= 0:\n        print(\"Final remaining seat count\", seat_count)\n        break",
      "execution_count": 83,
      "outputs": [
        {
          "output_type": "stream",
          "text": "Remaining seat count: 5\nRemaining seat count: 4\nRemaining seat count: 3\nRemaining seat count: 2\nRemaining seat count: 1\nFinal remaining seat count 0\n",
          "name": "stdout"
        }
      ]
    },
    {
      "metadata": {
        "trusted": true
      },
      "cell_type": "code",
      "source": "# Example 3\nseat_count = 0\nsoft_seats = 0\nhard_seats = 0\nnum_seats = 4\n\nwhile True:\n    seat_type = input('enter seat type of \"hard\",\"soft\" or \"exit\" (to finish): ')\n    \n    if seat_type.lower().startswith(\"e\"):\n        print()\n        break\n    elif seat_type.lower() == \"hard\":\n        hard_seats += 1\n    elif seat_type.lower() == \"soft\":\n        soft_seats += 1\n    else:\n        print(\"invalid entry: counted as hard\")\n        hard_seats += 1  \n    seat_count += 1\n    if seat_count >= num_seats:\n        print(\"\\nseats are full\")\n        break\n        \nprint(seat_count,\"Seats Total: \",hard_seats,\"hard and\",soft_seats,\"soft\" )",
      "execution_count": 86,
      "outputs": [
        {
          "output_type": "stream",
          "name": "stdout",
          "text": "enter seat type of \"hard\",\"soft\" or \"exit\" (to finish): soft\nenter seat type of \"hard\",\"soft\" or \"exit\" (to finish): soft\nenter seat type of \"hard\",\"soft\" or \"exit\" (to finish): soft\nenter seat type of \"hard\",\"soft\" or \"exit\" (to finish): soft\n\nseats are full\n4 Seats Total:  0 hard and 4 soft\n"
        }
      ]
    },
    {
      "metadata": {
        "trusted": true
      },
      "cell_type": "code",
      "source": "# Task 2\n# Shirt Count\nshirt_count = 0\ns_shirt = 0\nm_shirt = 0\nl_shirt = 0\ntotal_shirt = 6\n\nwhile True:\n    shirt_size = input(\"What size would you like me tro bring you? \")\n    \n    if shirt_size.startswith(\"s\"):\n        s_shirt += 1\n        break\n    elif shirt_size.startswith(\"m\"):\n        m_shirt += 1\n        break\n    elif shirt_size.startswith(\"l\"):\n        l_shirt += 1\n        break\n    else:\n        print(\"We run out of this size.\")\n    shirt_count += 1\n    \n    if shirt_count >= total_shirt:\n        print(\"\\n out of stock\")\n    break\nprint(\"Number of costumers:\",total_shirt,\"\\nSmall Shirts:\",s_shirt,\"\\nMedium Shirts:\",m_shirt,\"\\nLarge Shirts:\",l_shirt)",
      "execution_count": 94,
      "outputs": [
        {
          "output_type": "stream",
          "name": "stdout",
          "text": "What size would you like me tro bring you? medium\nNumber of costumers: 6 \nSmall Shirts: 0 \nMedium Shirts: 1 \nLarge Shirts: 0\n"
        }
      ]
    },
    {
      "metadata": {
        "trusted": true
      },
      "cell_type": "code",
      "source": "# Task 2.1\nshirt_count = 0\ns_shirt = 0\nm_shirt = 0\nl_shirt = 0\nx_size = 0\ntotal_shirt = 6\n\nwhile True:\n    shirt_size = input(\"What size would you like me tro bring you? \")\n    \n    if shirt_size.upper().startswith(\"x\"):\n        print()\n        break\n    elif shirt_size == \"small\":\n        s_shirt += 1\n    elif shirt_size == \"medium\":\n        m_shirt += 1\n    elif shirt_size == \"large\":\n        l_shirt += 1\n    else:\n        print(\"Out of stock, x sizes\")\n        x_size += 1  \n    shirt_count += 1\n    if shirt_count >= total_shirt:\n        print(\"\\nOut of Stock\")\n        break\n        \nprint(\"Number of costumers:\",total_shirt,\"\\nSmall Shirts:\",s_shirt,\"\\nMedium Shirts:\",m_shirt,\"\\nLarge Shirts:\",l_shirt)\n",
      "execution_count": 97,
      "outputs": [
        {
          "output_type": "stream",
          "name": "stdout",
          "text": "What size would you like me tro bring you? large\nWhat size would you like me tro bring you? medium\nWhat size would you like me tro bring you? larg\nOut of stock, x sizes\nWhat size would you like me tro bring you? small\nWhat size would you like me tro bring you? mediym\nOut of stock, x sizes\nWhat size would you like me tro bring you? large\n\nOut of Stock\nNumber of costumers: 6 \nSmall Shirts: 1 \nMedium Shirts: 1 \nLarge Shirts: 2\n"
        }
      ]
    },
    {
      "metadata": {},
      "cell_type": "markdown",
      "source": "## Using while\n### With boolean comparison"
    },
    {
      "metadata": {
        "trusted": true
      },
      "cell_type": "code",
      "source": "great_count = 5\nwhile great_count > 0:\n    print(str(great_count) + \"!\")\n    great_count -= 1\nprint(\"\\nIGNITION!\")",
      "execution_count": 103,
      "outputs": [
        {
          "output_type": "stream",
          "text": "5!\n4!\n3!\n2!\n1!\n\nIGNITION!\n",
          "name": "stdout"
        }
      ]
    },
    {
      "metadata": {
        "trusted": true
      },
      "cell_type": "code",
      "source": "seat_count = 0\nwhile seat_count <= 4:\n    print(\"Seat count:\",seat_count)\n    seat_count += 1",
      "execution_count": 104,
      "outputs": [
        {
          "output_type": "stream",
          "text": "Seat count: 0\nSeat count: 1\nSeat count: 2\nSeat count: 3\nSeat count: 4\n",
          "name": "stdout"
        }
      ]
    },
    {
      "metadata": {
        "trusted": true
      },
      "cell_type": "code",
      "source": "# Task 1\n# Program: Animal Names\nnum_animal = 1\nall_animals = \"\"\nwhile num_animal <= 4:\n    animal_name = input(\"What are your favorite animals: \").lower()\n    if animal_name == \"Exit\":\n        break\n    else:\n        all_animals = all_animals + animal_name.capitalize() + \" \"\n    num_animals += 1\n\n# print(all_animals)    \nif all_animals.istitle():\n    print(all_animals)\nelse:\n    print('\"no animals\"')",
      "execution_count": 153,
      "outputs": [
        {
          "output_type": "stream",
          "name": "stdout",
          "text": "What are your favorite animals: Tiger\nWhat are your favorite animals: Rabbit\nWhat are your favorite animals: Ox\nWhat are your favorite animals: Pig\nWhat are your favorite animals: Rat\nWhat are your favorite animals: Dragon\nWhat are your favorite animals: Exit\nWhat are your favorite animals: Yes\nWhat are your favorite animals: No\nWhat are your favorite animals: Maybe\nWhat are your favorite animals: WHen\nWhat are your favorite animals: Will\nWhat are your favorite animals: This\nWhat are your favorite animals: End\nWhat are your favorite animals: rat\nWhat are your favorite animals: rat\nWhat are your favorite animals: rat\nWhat are your favorite animals: rat\nWhat are your favorite animals: rat\nWhat are your favorite animals: when\nWhat are your favorite animals: no\n"
        },
        {
          "output_type": "error",
          "ename": "KeyboardInterrupt",
          "evalue": "",
          "traceback": [
            "\u001b[0;31m---------------------------------------------------------------------------\u001b[0m",
            "\u001b[0;31mKeyboardInterrupt\u001b[0m                         Traceback (most recent call last)",
            "\u001b[0;32m~/anaconda3_501/lib/python3.6/site-packages/ipykernel/kernelbase.py\u001b[0m in \u001b[0;36m_input_request\u001b[0;34m(self, prompt, ident, parent, password)\u001b[0m\n\u001b[1;32m    883\u001b[0m             \u001b[0;32mtry\u001b[0m\u001b[0;34m:\u001b[0m\u001b[0;34m\u001b[0m\u001b[0m\n\u001b[0;32m--> 884\u001b[0;31m                 \u001b[0mident\u001b[0m\u001b[0;34m,\u001b[0m \u001b[0mreply\u001b[0m \u001b[0;34m=\u001b[0m \u001b[0mself\u001b[0m\u001b[0;34m.\u001b[0m\u001b[0msession\u001b[0m\u001b[0;34m.\u001b[0m\u001b[0mrecv\u001b[0m\u001b[0;34m(\u001b[0m\u001b[0mself\u001b[0m\u001b[0;34m.\u001b[0m\u001b[0mstdin_socket\u001b[0m\u001b[0;34m,\u001b[0m \u001b[0;36m0\u001b[0m\u001b[0;34m)\u001b[0m\u001b[0;34m\u001b[0m\u001b[0m\n\u001b[0m\u001b[1;32m    885\u001b[0m             \u001b[0;32mexcept\u001b[0m \u001b[0mException\u001b[0m\u001b[0;34m:\u001b[0m\u001b[0;34m\u001b[0m\u001b[0m\n",
            "\u001b[0;32m~/anaconda3_501/lib/python3.6/site-packages/jupyter_client/session.py\u001b[0m in \u001b[0;36mrecv\u001b[0;34m(self, socket, mode, content, copy)\u001b[0m\n\u001b[1;32m    802\u001b[0m         \u001b[0;32mtry\u001b[0m\u001b[0;34m:\u001b[0m\u001b[0;34m\u001b[0m\u001b[0m\n\u001b[0;32m--> 803\u001b[0;31m             \u001b[0mmsg_list\u001b[0m \u001b[0;34m=\u001b[0m \u001b[0msocket\u001b[0m\u001b[0;34m.\u001b[0m\u001b[0mrecv_multipart\u001b[0m\u001b[0;34m(\u001b[0m\u001b[0mmode\u001b[0m\u001b[0;34m,\u001b[0m \u001b[0mcopy\u001b[0m\u001b[0;34m=\u001b[0m\u001b[0mcopy\u001b[0m\u001b[0;34m)\u001b[0m\u001b[0;34m\u001b[0m\u001b[0m\n\u001b[0m\u001b[1;32m    804\u001b[0m         \u001b[0;32mexcept\u001b[0m \u001b[0mzmq\u001b[0m\u001b[0;34m.\u001b[0m\u001b[0mZMQError\u001b[0m \u001b[0;32mas\u001b[0m \u001b[0me\u001b[0m\u001b[0;34m:\u001b[0m\u001b[0;34m\u001b[0m\u001b[0m\n",
            "\u001b[0;32m~/anaconda3_501/lib/python3.6/site-packages/zmq/sugar/socket.py\u001b[0m in \u001b[0;36mrecv_multipart\u001b[0;34m(self, flags, copy, track)\u001b[0m\n\u001b[1;32m    466\u001b[0m         \"\"\"\n\u001b[0;32m--> 467\u001b[0;31m         \u001b[0mparts\u001b[0m \u001b[0;34m=\u001b[0m \u001b[0;34m[\u001b[0m\u001b[0mself\u001b[0m\u001b[0;34m.\u001b[0m\u001b[0mrecv\u001b[0m\u001b[0;34m(\u001b[0m\u001b[0mflags\u001b[0m\u001b[0;34m,\u001b[0m \u001b[0mcopy\u001b[0m\u001b[0;34m=\u001b[0m\u001b[0mcopy\u001b[0m\u001b[0;34m,\u001b[0m \u001b[0mtrack\u001b[0m\u001b[0;34m=\u001b[0m\u001b[0mtrack\u001b[0m\u001b[0;34m)\u001b[0m\u001b[0;34m]\u001b[0m\u001b[0;34m\u001b[0m\u001b[0m\n\u001b[0m\u001b[1;32m    468\u001b[0m         \u001b[0;31m# have first part already, only loop while more to receive\u001b[0m\u001b[0;34m\u001b[0m\u001b[0;34m\u001b[0m\u001b[0m\n",
            "\u001b[0;32mzmq/backend/cython/socket.pyx\u001b[0m in \u001b[0;36mzmq.backend.cython.socket.Socket.recv\u001b[0;34m()\u001b[0m\n",
            "\u001b[0;32mzmq/backend/cython/socket.pyx\u001b[0m in \u001b[0;36mzmq.backend.cython.socket.Socket.recv\u001b[0;34m()\u001b[0m\n",
            "\u001b[0;32mzmq/backend/cython/socket.pyx\u001b[0m in \u001b[0;36mzmq.backend.cython.socket._recv_copy\u001b[0;34m()\u001b[0m\n",
            "\u001b[0;32m~/anaconda3_501/lib/python3.6/site-packages/zmq/backend/cython/checkrc.pxd\u001b[0m in \u001b[0;36mzmq.backend.cython.checkrc._check_rc\u001b[0;34m()\u001b[0m\n",
            "\u001b[0;31mKeyboardInterrupt\u001b[0m: ",
            "\nDuring handling of the above exception, another exception occurred:\n",
            "\u001b[0;31mKeyboardInterrupt\u001b[0m                         Traceback (most recent call last)",
            "\u001b[0;32m<ipython-input-153-7727bd337c9b>\u001b[0m in \u001b[0;36m<module>\u001b[0;34m\u001b[0m\n\u001b[1;32m      4\u001b[0m \u001b[0mall_animals\u001b[0m \u001b[0;34m=\u001b[0m \u001b[0;34m\"\"\u001b[0m\u001b[0;34m\u001b[0m\u001b[0m\n\u001b[1;32m      5\u001b[0m \u001b[0;32mwhile\u001b[0m \u001b[0mnum_animal\u001b[0m \u001b[0;34m<=\u001b[0m \u001b[0;36m4\u001b[0m\u001b[0;34m:\u001b[0m\u001b[0;34m\u001b[0m\u001b[0m\n\u001b[0;32m----> 6\u001b[0;31m     \u001b[0manimal_name\u001b[0m \u001b[0;34m=\u001b[0m \u001b[0minput\u001b[0m\u001b[0;34m(\u001b[0m\u001b[0;34m\"What are your favorite animals: \"\u001b[0m\u001b[0;34m)\u001b[0m\u001b[0;34m.\u001b[0m\u001b[0mlower\u001b[0m\u001b[0;34m(\u001b[0m\u001b[0;34m)\u001b[0m\u001b[0;34m\u001b[0m\u001b[0m\n\u001b[0m\u001b[1;32m      7\u001b[0m     \u001b[0;32mif\u001b[0m \u001b[0manimal_name\u001b[0m \u001b[0;34m==\u001b[0m \u001b[0;34m\"Exit\"\u001b[0m\u001b[0;34m:\u001b[0m\u001b[0;34m\u001b[0m\u001b[0m\n\u001b[1;32m      8\u001b[0m         \u001b[0;32mbreak\u001b[0m\u001b[0;34m\u001b[0m\u001b[0m\n",
            "\u001b[0;32m~/anaconda3_501/lib/python3.6/site-packages/ipykernel/kernelbase.py\u001b[0m in \u001b[0;36mraw_input\u001b[0;34m(self, prompt)\u001b[0m\n\u001b[1;32m    857\u001b[0m             \u001b[0mself\u001b[0m\u001b[0;34m.\u001b[0m\u001b[0m_parent_ident\u001b[0m\u001b[0;34m,\u001b[0m\u001b[0;34m\u001b[0m\u001b[0m\n\u001b[1;32m    858\u001b[0m             \u001b[0mself\u001b[0m\u001b[0;34m.\u001b[0m\u001b[0m_parent_header\u001b[0m\u001b[0;34m,\u001b[0m\u001b[0;34m\u001b[0m\u001b[0m\n\u001b[0;32m--> 859\u001b[0;31m             \u001b[0mpassword\u001b[0m\u001b[0;34m=\u001b[0m\u001b[0;32mFalse\u001b[0m\u001b[0;34m,\u001b[0m\u001b[0;34m\u001b[0m\u001b[0m\n\u001b[0m\u001b[1;32m    860\u001b[0m         )\n\u001b[1;32m    861\u001b[0m \u001b[0;34m\u001b[0m\u001b[0m\n",
            "\u001b[0;32m~/anaconda3_501/lib/python3.6/site-packages/ipykernel/kernelbase.py\u001b[0m in \u001b[0;36m_input_request\u001b[0;34m(self, prompt, ident, parent, password)\u001b[0m\n\u001b[1;32m    887\u001b[0m             \u001b[0;32mexcept\u001b[0m \u001b[0mKeyboardInterrupt\u001b[0m\u001b[0;34m:\u001b[0m\u001b[0;34m\u001b[0m\u001b[0m\n\u001b[1;32m    888\u001b[0m                 \u001b[0;31m# re-raise KeyboardInterrupt, to truncate traceback\u001b[0m\u001b[0;34m\u001b[0m\u001b[0;34m\u001b[0m\u001b[0m\n\u001b[0;32m--> 889\u001b[0;31m                 \u001b[0;32mraise\u001b[0m \u001b[0mKeyboardInterrupt\u001b[0m\u001b[0;34m\u001b[0m\u001b[0m\n\u001b[0m\u001b[1;32m    890\u001b[0m             \u001b[0;32melse\u001b[0m\u001b[0;34m:\u001b[0m\u001b[0;34m\u001b[0m\u001b[0m\n\u001b[1;32m    891\u001b[0m                 \u001b[0;32mbreak\u001b[0m\u001b[0;34m\u001b[0m\u001b[0m\n",
            "\u001b[0;31mKeyboardInterrupt\u001b[0m: "
          ]
        }
      ]
    },
    {
      "metadata": {
        "trusted": true
      },
      "cell_type": "code",
      "source": "# Multiply numbers just adding \n\ndef mul_num(a,b):\n    operation = a + a\n    result = a * b\n    while operation <= result:\n        print(\"Variable sum =\",operation)\n        operation += a\n    \nprint(mul_num(8,7))\n",
      "execution_count": 122,
      "outputs": [
        {
          "output_type": "stream",
          "text": "Variable sum = 16\nVariable sum = 24\nVariable sum = 32\nVariable sum = 40\nVariable sum = 48\nVariable sum = 56\nNone\n",
          "name": "stdout"
        }
      ]
    },
    {
      "metadata": {
        "trusted": true
      },
      "cell_type": "code",
      "source": "# Multiply numbers just adding 1.1\n\ndef mul_num(a,b):\n    operation = a + a\n    result = a * b\n    while True:\n        if operation < result:\n            print(\"Variable sum =\",operation)\n            operation += a\n        elif operation == result:\n            print(\"A time B =\",operation)\n            break\n        \nmul_num(9,8)",
      "execution_count": 139,
      "outputs": [
        {
          "output_type": "stream",
          "text": "Variable sum = 18\nVariable sum = 27\nVariable sum = 36\nVariable sum = 45\nVariable sum = 54\nVariable sum = 63\nA time B = 72\n",
          "name": "stdout"
        }
      ]
    },
    {
      "metadata": {},
      "cell_type": "markdown",
      "source": "## While with boolean string tests"
    },
    {
      "metadata": {
        "trusted": true
      },
      "cell_type": "code",
      "source": "# Example 1\nstudent_fname = \"\"\nwhile student_fname.isalpha() == False:\n    student_fname = input(\"Enter student\\'s first (Letters only, No spaces): \")\nprint(\"\\n\" + student_fname.title(),\"has been entered as first name\")",
      "execution_count": 157,
      "outputs": [
        {
          "output_type": "stream",
          "name": "stdout",
          "text": "Enter student's first (Letters only, No spaces): Oliver\n\nOliver has been entered as first name\n"
        }
      ]
    },
    {
      "metadata": {
        "trusted": true
      },
      "cell_type": "code",
      "source": "# Example 1.1\nfirst_name = \"\"\nwhile first_name.isalpha() == False:\n    first_name = input(\"Enter student's first name (Letters only, No spaces): \")\nprint(\"\\n\" + first_name,\"has been entered as first name\")",
      "execution_count": 173,
      "outputs": [
        {
          "output_type": "stream",
          "name": "stdout",
          "text": "Enter student's first name (Letters only, No spaces): asdasd aswd \nEnter student's first name (Letters only, No spaces): asfaf\n\nasfaf has been entered as first name\n"
        }
      ]
    },
    {
      "metadata": {
        "trusted": true
      },
      "cell_type": "code",
      "source": "# Example 2\nmessage = \"\"\nwhile message.isupper() != True:\n    message = input(\"Sorry can't hear, please yell message: \")\nprint('Message: \"\"' + message + '\" received')",
      "execution_count": 175,
      "outputs": [
        {
          "output_type": "stream",
          "name": "stdout",
          "text": "Sorry can't hear, please yell message: YES\nMessage: \"\"YES\" received\n"
        }
      ]
    },
    {
      "metadata": {
        "trusted": true
      },
      "cell_type": "code",
      "source": "# Example 3\nnumber = \"\"\nwhile number.isdigit() != True:\n    number = input(\"Enter a positive integer: \")\nprint(number, \"is an integer\")",
      "execution_count": 177,
      "outputs": [
        {
          "output_type": "stream",
          "name": "stdout",
          "text": "Enter a positive integer: 2.5\nEnter a positive integer: -10\nEnter a positive integer: 123123\n123123 is an integer\n"
        }
      ]
    },
    {
      "metadata": {
        "trusted": true
      },
      "cell_type": "code",
      "source": "# Task 2\n# Long Number\nlong_num = \"\"\nint_num = input(\"Enter digit: \")\nwhile int_num.isdigit() != True:\n    int_num + long_num\n    int_num = input(\"You have to enter a DIGIT (integer)!: \")\nprint(long_num)",
      "execution_count": 184,
      "outputs": [
        {
          "output_type": "stream",
          "name": "stdout",
          "text": "Enter digit: daniel\nYou have to enter a DIGIT (integer)!: ruiz\nYou have to enter a DIGIT (integer)!: garcia\nYou have to enter a DIGIT (integer)!: 45\n\n"
        }
      ]
    },
    {
      "metadata": {
        "trusted": true
      },
      "cell_type": "code",
      "source": "A='1234567'\nA[1::2]\nA",
      "execution_count": null,
      "outputs": []
    },
    {
      "metadata": {
        "trusted": true
      },
      "cell_type": "code",
      "source": "",
      "execution_count": null,
      "outputs": []
    }
  ],
  "metadata": {
    "kernelspec": {
      "name": "python36",
      "display_name": "Python 3.6",
      "language": "python"
    },
    "language_info": {
      "mimetype": "text/x-python",
      "nbconvert_exporter": "python",
      "name": "python",
      "pygments_lexer": "ipython3",
      "version": "3.6.6",
      "file_extension": ".py",
      "codemirror_mode": {
        "version": 3,
        "name": "ipython"
      }
    }
  },
  "nbformat": 4,
  "nbformat_minor": 2
}